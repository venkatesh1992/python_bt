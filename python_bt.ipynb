{
  "nbformat": 4,
  "nbformat_minor": 0,
  "metadata": {
    "colab": {
      "provenance": [],
      "collapsed_sections": [
        "xEY3sBzOz5DT",
        "FdkOtjZ3ycxA",
        "qdmdi0J81QQm",
        "FELbe5cA5aMI",
        "sFWowhEjOb2I",
        "SBUGPD0YR_wI",
        "OocD8P_rhzl_",
        "zppwFHQEjpBf",
        "RZNI6McBrYOe",
        "YhF7sYa722VN",
        "L041ebez8fRs",
        "9yyH-Ne3AOl8"
      ],
      "authorship_tag": "ABX9TyPsmPLz6PgpVj0GCKNfRKne",
      "include_colab_link": true
    },
    "kernelspec": {
      "name": "python3",
      "display_name": "Python 3"
    },
    "language_info": {
      "name": "python"
    }
  },
  "cells": [
    {
      "cell_type": "markdown",
      "metadata": {
        "id": "view-in-github",
        "colab_type": "text"
      },
      "source": [
        "<a href=\"https://colab.research.google.com/github/venkatesh1992/python_bt/blob/python_bt/python_bt.ipynb\" target=\"_parent\"><img src=\"https://colab.research.google.com/assets/colab-badge.svg\" alt=\"Open In Colab\"/></a>"
      ]
    },
    {
      "cell_type": "markdown",
      "source": [
        "##OOps"
      ],
      "metadata": {
        "id": "xEY3sBzOz5DT"
      }
    },
    {
      "cell_type": "code",
      "execution_count": null,
      "metadata": {
        "colab": {
          "base_uri": "https://localhost:8080/"
        },
        "id": "Bm6UgWbUvD_a",
        "outputId": "daf03805-8728-469d-ef7e-86e284d5f1fc"
      },
      "outputs": [
        {
          "output_type": "stream",
          "name": "stdout",
          "text": [
            "Ravi\n",
            "Ravi bp 80/120\n",
            "Ravi heartbeat 80bpm\n"
          ]
        }
      ],
      "source": [
        "class Patient:\n",
        "  def __init__(self,name,age):\n",
        "    self.name=name\n",
        "    self.age=age\n",
        "    self.clinical=[]\n",
        "  def addClinicalData(self,clinical):\n",
        "    self.clinical.append(clinical)\n",
        "\n",
        "class Clinical:\n",
        "  def __init__(self,testName,testValue):\n",
        "    self.testName = testName\n",
        "    self.testValue = testValue\n",
        "\n",
        "p1 = Patient('Ravi',24)\n",
        "c1= Clinical('bp','80/120')\n",
        "print(p1.name)\n",
        "c2= Clinical('heartbeat','80bpm')\n",
        "\n",
        "p1.addClinicalData(c1)\n",
        "p1.addClinicalData(c2)\n",
        "\n",
        "for test in p1.clinical:\n",
        "  print(p1.name,test.testName,test.testValue)\n",
        "\n"
      ]
    },
    {
      "cell_type": "code",
      "source": [
        "import gc\n",
        "print(gc.isenabled())\n",
        "gc.disable()\n",
        "print(gc.isenabled())\n",
        "gc.enable()\n",
        "print(gc.isenabled())"
      ],
      "metadata": {
        "colab": {
          "base_uri": "https://localhost:8080/"
        },
        "id": "NcwVqJvXwXZ2",
        "outputId": "f91b590c-e75a-4dbe-d54f-9e5d00fe2888"
      },
      "execution_count": null,
      "outputs": [
        {
          "output_type": "stream",
          "name": "stdout",
          "text": [
            "False\n",
            "False\n",
            "True\n"
          ]
        }
      ]
    },
    {
      "cell_type": "markdown",
      "source": [
        "##Private fields"
      ],
      "metadata": {
        "id": "FdkOtjZ3ycxA"
      }
    },
    {
      "cell_type": "code",
      "source": [
        "class Student:\n",
        "  def __init__(self,rollno,name):\n",
        "    self.rollno = rollno\n",
        "    self.name = name\n",
        "\n",
        "s1 = Student(1,'Venkatesh')\n",
        "print(s1.rollno)\n",
        "print(s1.name)"
      ],
      "metadata": {
        "colab": {
          "base_uri": "https://localhost:8080/"
        },
        "id": "z38f65ihyDlo",
        "outputId": "5e8ad6aa-2a22-4001-80a2-83c9d45f6ab7"
      },
      "execution_count": null,
      "outputs": [
        {
          "output_type": "stream",
          "name": "stdout",
          "text": [
            "1\n",
            "Venkatesh\n"
          ]
        }
      ]
    },
    {
      "cell_type": "code",
      "source": [
        "class StudentPrivate:\n",
        "  def __init__(self,rollno,name):\n",
        "    self.__rollno = rollno\n",
        "    self.__name = name\n",
        "  def display(self):\n",
        "    print(self.__rollno,self.__name)\n",
        "\n",
        "s1 = StudentPrivate(1,'Venkatesh')\n",
        "#print(s1.rollno,s1.name) # 'StudentPrivate' object has no attribute 'rollno'\n",
        "#print(s1.__rollno,s1.__name) # 'StudentPrivate' object has no attribute '__rollno'\n",
        "s1.display() # to call private fields\n",
        "# we can also use objectName._ClassName__privateFieldName\n",
        "print(s1._StudentPrivate__rollno)\n",
        "print(s1._StudentPrivate__name)"
      ],
      "metadata": {
        "colab": {
          "base_uri": "https://localhost:8080/"
        },
        "id": "y5wRZK5Ty69j",
        "outputId": "ab06b74f-5a9d-4eec-b80f-8fc5f3862f6c"
      },
      "execution_count": null,
      "outputs": [
        {
          "output_type": "stream",
          "name": "stdout",
          "text": [
            "1 Venkatesh\n",
            "1\n",
            "Venkatesh\n"
          ]
        }
      ]
    },
    {
      "cell_type": "markdown",
      "source": [
        "##Encapsulation\n",
        "Binding code and data together"
      ],
      "metadata": {
        "id": "qdmdi0J81QQm"
      }
    },
    {
      "cell_type": "code",
      "source": [
        "class Student:\n",
        "  def setRollno(self,rollno):\n",
        "    self.rollno = rollno\n",
        "  def getRollno(self):\n",
        "    return self.rollno\n",
        "  def setName(self,name):\n",
        "    self.name = name\n",
        "  def getName(self):\n",
        "    return self.name\n",
        "\n",
        "s1 = Student()\n",
        "s1.setRollno(1)\n",
        "s1.setName('Venkatesh')\n",
        "print(s1.getRollno(),s1.getName())"
      ],
      "metadata": {
        "colab": {
          "base_uri": "https://localhost:8080/"
        },
        "id": "hVmMKnilzlOj",
        "outputId": "5950c1c9-6b36-46e8-a60b-eb3e39f7ff83"
      },
      "execution_count": null,
      "outputs": [
        {
          "output_type": "stream",
          "name": "stdout",
          "text": [
            "1 Venkatesh\n"
          ]
        }
      ]
    },
    {
      "cell_type": "markdown",
      "source": [
        "##Inheritance\n",
        "Inheriting/access parent class properties in child class\n",
        "\n",
        "accessing existing/updating existing methods in child"
      ],
      "metadata": {
        "id": "FELbe5cA5aMI"
      }
    },
    {
      "cell_type": "code",
      "source": [
        "class BMW:\n",
        "  def __init__(self,make,model,year):\n",
        "    self.make = make\n",
        "    self.model = model\n",
        "    self.year = year\n",
        "\n",
        "class ThreeSeries(BMW):\n",
        "  def __init__(self, cruiseControlEnabled,make, model, year):\n",
        "    super().__init__(make, model, year)\n",
        "    self.cruiseControlEnabled = cruiseControlEnabled\n",
        "\n",
        "class FiveSeries(BMW):\n",
        "  def __init__(self, parkingAssistEnabled,make, model, year):\n",
        "    super().__init__(make, model, year)\n",
        "    self.parkingAssistEnabled = parkingAssistEnabled\n",
        "\n",
        "class SevenSeries(FiveSeries,BMW):\n",
        "  def __init__(self, IgnitionControl, parkingAssistEnabled,make, model, year):\n",
        "    super().__init__(parkingAssistEnabled, make, model, year)\n",
        "    self.IgnitionControl = IgnitionControl\n",
        "\n",
        "\n",
        "\n",
        "seven = SevenSeries('Yes',True,'BMW7',7255,2023)\n",
        "print(seven.IgnitionControl)\n",
        "print(seven.parkingAssistEnabled)\n",
        "\n",
        "threeSeries = ThreeSeries(True,'BMW3','3258',2021)\n",
        "print(threeSeries.cruiseControlEnabled)\n",
        "print(threeSeries.make)\n",
        "print(threeSeries.model)\n",
        "print(threeSeries.year)"
      ],
      "metadata": {
        "colab": {
          "base_uri": "https://localhost:8080/"
        },
        "id": "U2jsShnd2aya",
        "outputId": "4558058c-d128-4364-f493-e09008215b00"
      },
      "execution_count": null,
      "outputs": [
        {
          "output_type": "stream",
          "name": "stdout",
          "text": [
            "Yes\n",
            "True\n",
            "True\n",
            "BMW3\n",
            "3258\n",
            "2021\n"
          ]
        }
      ]
    },
    {
      "cell_type": "code",
      "source": [
        "class BMW:\n",
        "  def __init__(self,make,model,year):\n",
        "    self.make = make\n",
        "    self.model = model\n",
        "    self.year = year\n",
        "\n",
        "class ThreeSeries(BMW):\n",
        "  def __init__(self,cruiseControlEnabled,make, model, year):\n",
        "    super().__init__(make, model, year)\n",
        "    self.cruiseControlEnabled = cruiseControlEnabled\n",
        "\n",
        "class FiveSeries(ThreeSeries,BMW):\n",
        "  def __init__(self,parkingAssistEnabled, cruiseControlEnabled, make, model, year):\n",
        "    super().__init__(cruiseControlEnabled, make, model, year)\n",
        "    self.parkingAssistEnabled = parkingAssistEnabled\n",
        "\n",
        "\n",
        "class SevenSeries(FiveSeries,BMW):\n",
        "  def __init__(self, IgnitionControl,parkingAssistEnabled, cruiseControlEnabled, make, model, year):\n",
        "    super().__init__(parkingAssistEnabled, cruiseControlEnabled, make, model, year)\n",
        "    self.IgnitionControl = IgnitionControl\n",
        "\n",
        "seven = SevenSeries('Yes',True,True,'BMW7',7255,2023)\n",
        "print(seven.IgnitionControl)\n",
        "print(seven.parkingAssistEnabled)\n",
        "\n",
        "threeSeries = ThreeSeries(True,'BMW3','3258',2021)\n",
        "print(threeSeries.cruiseControlEnabled)\n",
        "print(threeSeries.make)\n",
        "print(threeSeries.model)\n",
        "print(threeSeries.year)"
      ],
      "metadata": {
        "colab": {
          "base_uri": "https://localhost:8080/"
        },
        "id": "7i3zguEc7Q9Q",
        "outputId": "1a5e857a-a730-49c3-f24d-b6cc72c3d971"
      },
      "execution_count": null,
      "outputs": [
        {
          "output_type": "stream",
          "name": "stdout",
          "text": [
            "Yes\n",
            "True\n",
            "True\n",
            "BMW3\n",
            "3258\n",
            "2021\n"
          ]
        }
      ]
    },
    {
      "cell_type": "markdown",
      "source": [
        "Now we will add some methods in parent and check in child,whether we will able to access or not"
      ],
      "metadata": {
        "id": "zwL4lYTf_x9V"
      }
    },
    {
      "cell_type": "code",
      "source": [
        "class BMW:\n",
        "  def __init__(self,make,model,year):\n",
        "    self.make = make\n",
        "    self.model = model\n",
        "    self.year = year\n",
        "\n",
        "  def start(self):\n",
        "    print('Starting the Car')\n",
        "\n",
        "  def stop(self):\n",
        "    print('Stopping the Car')\n",
        "\n",
        "class ThreeSeries(BMW):\n",
        "  def __init__(self,cruiseControlEnabled,make, model, year):\n",
        "    super().__init__(make, model, year)\n",
        "    self.cruiseControlEnabled = cruiseControlEnabled\n",
        "\n",
        "  def display(self):\n",
        "    print('cruiceControlEnabled',self.cruiseControlEnabled)\n",
        "\n",
        "class FiveSeries(ThreeSeries,BMW):\n",
        "  def __init__(self,parkingAssistEnabled, cruiseControlEnabled, make, model, year):\n",
        "    super().__init__(cruiseControlEnabled, make, model, year)\n",
        "    self.parkingAssistEnabled = parkingAssistEnabled\n",
        "\n",
        "\n",
        "class SevenSeries(FiveSeries,BMW):\n",
        "  def __init__(self, IgnitionControl,parkingAssistEnabled, cruiseControlEnabled, make, model, year):\n",
        "    super().__init__(parkingAssistEnabled, cruiseControlEnabled, make, model, year)\n",
        "    self.IgnitionControl = IgnitionControl\n",
        "\n",
        "\n",
        "threeSeries = ThreeSeries(True,'BMW3','3258',2021)\n",
        "print(threeSeries.cruiseControlEnabled)\n",
        "print(threeSeries.make)\n",
        "print(threeSeries.model)\n",
        "print(threeSeries.year)\n",
        "threeSeries.start()\n",
        "threeSeries.display()\n",
        "\n",
        "seven = SevenSeries('Yes',True,True,'BMW7',7255,2023)\n",
        "print(seven.IgnitionControl)\n",
        "print(seven.parkingAssistEnabled)\n",
        "seven.stop()\n",
        "seven.display()\n"
      ],
      "metadata": {
        "colab": {
          "base_uri": "https://localhost:8080/"
        },
        "id": "e4BmWzie9qwK",
        "outputId": "8ad6cb8f-6a41-4f21-f36d-619c549b9b4d"
      },
      "execution_count": null,
      "outputs": [
        {
          "output_type": "stream",
          "name": "stdout",
          "text": [
            "True\n",
            "BMW3\n",
            "3258\n",
            "2021\n",
            "Starting the Car\n",
            "cruiceControlEnabled True\n",
            "Yes\n",
            "True\n",
            "Stopping the Car\n",
            "cruiceControlEnabled True\n"
          ]
        }
      ]
    },
    {
      "cell_type": "markdown",
      "source": [
        "##Method Overriding\n",
        "using the same method name and signature in child class"
      ],
      "metadata": {
        "id": "sFWowhEjOb2I"
      }
    },
    {
      "cell_type": "code",
      "source": [
        "class BMW:\n",
        "  def __init__(self,make,model,year):\n",
        "    self.make = make\n",
        "    self.model = model\n",
        "    self.year = year\n",
        "\n",
        "  def start(self):\n",
        "    print('Starting the Car')\n",
        "\n",
        "  def stop(self):\n",
        "    print('Stopping the Car')\n",
        "\n",
        "class ThreeSeries(BMW):\n",
        "  def __init__(self,cruiseControlEnabled,make, model, year):\n",
        "    super().__init__(make, model, year)\n",
        "    self.cruiseControlEnabled = cruiseControlEnabled\n",
        "\n",
        "  def display(self):\n",
        "    print('cruiceControlEnabled',self.cruiseControlEnabled)\n",
        "  def start(self):\n",
        "    print('Button control starting')\n",
        "\n",
        "class FiveSeries(ThreeSeries,BMW):\n",
        "  def __init__(self,parkingAssistEnabled, cruiseControlEnabled, make, model, year):\n",
        "    super().__init__(cruiseControlEnabled, make, model, year)\n",
        "    self.parkingAssistEnabled = parkingAssistEnabled\n",
        "  def start(self):\n",
        "    print('Remote control starting')\n",
        "\n",
        "\n",
        "class SevenSeries(FiveSeries,BMW):\n",
        "  def __init__(self, IgnitionControl,parkingAssistEnabled, cruiseControlEnabled, make, model, year):\n",
        "    super().__init__(parkingAssistEnabled, cruiseControlEnabled, make, model, year)\n",
        "    self.IgnitionControl = IgnitionControl\n",
        "\n",
        "\n",
        "threeSeries = ThreeSeries(True,'BMW3','3258',2021)\n",
        "print(threeSeries.cruiseControlEnabled)\n",
        "print(threeSeries.make)\n",
        "print(threeSeries.model)\n",
        "print(threeSeries.year)\n",
        "threeSeries.start()\n",
        "threeSeries.display()\n",
        "threeSeries.start()\n",
        "\n",
        "seven = SevenSeries('Yes',True,True,'BMW7',7255,2023)\n",
        "print(seven.IgnitionControl)\n",
        "print(seven.parkingAssistEnabled)\n",
        "seven.stop()\n",
        "seven.display()\n",
        "seven.start()\n"
      ],
      "metadata": {
        "colab": {
          "base_uri": "https://localhost:8080/"
        },
        "id": "M51x3VPNAQtB",
        "outputId": "7da9f89c-544f-4323-c0d4-f6dde3c09cd5"
      },
      "execution_count": null,
      "outputs": [
        {
          "output_type": "stream",
          "name": "stdout",
          "text": [
            "True\n",
            "BMW3\n",
            "3258\n",
            "2021\n",
            "Button control starting\n",
            "cruiceControlEnabled True\n",
            "Button control starting\n",
            "Yes\n",
            "True\n",
            "Stopping the Car\n",
            "cruiceControlEnabled True\n",
            "Remote control starting\n"
          ]
        }
      ]
    },
    {
      "cell_type": "markdown",
      "source": [
        "we can call parent class methods or constructor from child class, we will use super() method, which will invoke super class"
      ],
      "metadata": {
        "id": "gFBYLlx4PVdS"
      }
    },
    {
      "cell_type": "code",
      "source": [
        "class BMW:\n",
        "  def __init__(self,make,model,year):\n",
        "    self.make = make\n",
        "    self.model = model\n",
        "    self.year = year\n",
        "\n",
        "  def start(self):\n",
        "    print('Starting the Car')\n",
        "\n",
        "  def stop(self):\n",
        "    print('Stopping the Car')\n",
        "\n",
        "class ThreeSeries(BMW):\n",
        "  def __init__(self,cruiseControlEnabled,make, model, year):\n",
        "    super().__init__(make, model, year)\n",
        "    self.cruiseControlEnabled = cruiseControlEnabled\n",
        "\n",
        "  def display(self):\n",
        "    print('cruiceControlEnabled',self.cruiseControlEnabled)\n",
        "  def start(self):\n",
        "    print('Button control starting')\n",
        "\n",
        "class FiveSeries(ThreeSeries,BMW):\n",
        "  def __init__(self,parkingAssistEnabled, cruiseControlEnabled, make, model, year):\n",
        "    super().__init__(cruiseControlEnabled, make, model, year)\n",
        "    self.parkingAssistEnabled = parkingAssistEnabled\n",
        "  def start(self):\n",
        "    super().start()\n",
        "    print('Remote control starting')\n",
        "\n",
        "\n",
        "class SevenSeries(FiveSeries,BMW):\n",
        "  def __init__(self, IgnitionControl,parkingAssistEnabled, cruiseControlEnabled, make, model, year):\n",
        "    super().__init__(parkingAssistEnabled, cruiseControlEnabled, make, model, year)\n",
        "    self.IgnitionControl = IgnitionControl\n",
        "\n",
        "\n",
        "threeSeries = ThreeSeries(True,'BMW3','3258',2021)\n",
        "print(threeSeries.cruiseControlEnabled)\n",
        "print(threeSeries.make)\n",
        "print(threeSeries.model)\n",
        "print(threeSeries.year)\n",
        "threeSeries.start()\n",
        "threeSeries.display()\n",
        "threeSeries.start()\n",
        "\n",
        "seven = SevenSeries('Yes',True,True,'BMW7',7255,2023)\n",
        "print(seven.IgnitionControl)\n",
        "print(seven.parkingAssistEnabled)\n",
        "seven.stop()\n",
        "seven.display()\n",
        "seven.start()\n"
      ],
      "metadata": {
        "colab": {
          "base_uri": "https://localhost:8080/"
        },
        "id": "FIb-YC3NPDNg",
        "outputId": "26697d73-b5a0-47d2-e2ae-2c7683079b13"
      },
      "execution_count": null,
      "outputs": [
        {
          "output_type": "stream",
          "name": "stdout",
          "text": [
            "True\n",
            "BMW3\n",
            "3258\n",
            "2021\n",
            "Button control starting\n",
            "cruiceControlEnabled True\n",
            "Button control starting\n",
            "Yes\n",
            "True\n",
            "Stopping the Car\n",
            "cruiceControlEnabled True\n",
            "Button control starting\n",
            "Remote control starting\n"
          ]
        }
      ]
    },
    {
      "cell_type": "markdown",
      "source": [
        "##Polymorphism"
      ],
      "metadata": {
        "id": "SBUGPD0YR_wI"
      }
    },
    {
      "cell_type": "code",
      "source": [
        "# duck typing\n",
        "class Duck:\n",
        "  def talk(self):\n",
        "    print('Quack Quack')\n",
        "\n",
        "class Human:\n",
        "  def talk(self):\n",
        "    print(\"Hello\")\n",
        "\n",
        "def callTalk(obj):\n",
        "  obj.talk()\n",
        "\n",
        "d = Duck()\n",
        "callTalk(d)\n",
        "h= Human()\n",
        "callTalk(h)"
      ],
      "metadata": {
        "colab": {
          "base_uri": "https://localhost:8080/"
        },
        "id": "qkkbaF9VP_ls",
        "outputId": "463e2d58-b5e3-44e9-ca39-573f66cc4b72"
      },
      "execution_count": null,
      "outputs": [
        {
          "output_type": "stream",
          "name": "stdout",
          "text": [
            "Quack Quack\n",
            "Hello\n"
          ]
        }
      ]
    },
    {
      "cell_type": "code",
      "source": [
        "#dependency ingestion\n",
        "class Flight:\n",
        "  def __init__(self,engine):\n",
        "    self.engine = engine\n",
        "  def startEngine(self):\n",
        "    self.engine.start()\n",
        "\n",
        "class AirbusEngine:\n",
        "  def start(self):\n",
        "    print(\"starting Airbus engine\")\n",
        "\n",
        "class BoingEngine:\n",
        "  def start(self):\n",
        "    print(\"starting Boing engine\")\n",
        "\n",
        "ae = AirbusEngine()\n",
        "f= Flight(ae)\n",
        "f.startEngine()\n",
        "\n",
        "be = BoingEngine()\n",
        "f1= Flight(be)\n",
        "f1.startEngine()"
      ],
      "metadata": {
        "colab": {
          "base_uri": "https://localhost:8080/"
        },
        "id": "g7YOGR1ySxtm",
        "outputId": "6006cab6-1059-4b4e-b27a-5f70666671fa"
      },
      "execution_count": null,
      "outputs": [
        {
          "output_type": "stream",
          "name": "stdout",
          "text": [
            "starting Airbus engine\n",
            "starting Boing engine\n"
          ]
        }
      ]
    },
    {
      "cell_type": "markdown",
      "source": [
        "##Abstract class and methods"
      ],
      "metadata": {
        "id": "OocD8P_rhzl_"
      }
    },
    {
      "cell_type": "code",
      "source": [
        "from abc import abstractmethod,ABC\n",
        "class BMW(ABC):\n",
        "  def __init__(self,make,model,year):\n",
        "    self.make = make\n",
        "    self.model = model\n",
        "    self.year = year\n",
        "\n",
        "  def start(self):\n",
        "    print('Starting the Car')\n",
        "\n",
        "  def stop(self):\n",
        "    print('Stopping the Car')\n",
        "\n",
        "  @abstractmethod\n",
        "  def drive(self):\n",
        "    pass\n",
        "\n",
        "class ThreeSeries(BMW):\n",
        "  def __init__(self,cruiseControlEnabled,make, model, year):\n",
        "    super().__init__(make, model, year)\n",
        "    self.cruiseControlEnabled = cruiseControlEnabled\n",
        "\n",
        "  def display(self):\n",
        "    print('cruiceControlEnabled',self.cruiseControlEnabled)\n",
        "  def start(self):\n",
        "    print('Button control starting')\n",
        "  def drive(self):\n",
        "    print('3 driving')\n",
        "\n",
        "class FiveSeries(ThreeSeries,BMW):\n",
        "  def __init__(self,parkingAssistEnabled, cruiseControlEnabled, make, model, year):\n",
        "    super().__init__(cruiseControlEnabled, make, model, year)\n",
        "    self.parkingAssistEnabled = parkingAssistEnabled\n",
        "  def start(self):\n",
        "    super().start()\n",
        "    print('Remote control starting')\n",
        "\n",
        "threeSeries = ThreeSeries(True,'BMW3','3258',2021)\n",
        "print(threeSeries.cruiseControlEnabled)\n",
        "print(threeSeries.make)\n",
        "print(threeSeries.model)\n",
        "print(threeSeries.year)\n",
        "threeSeries.start()\n",
        "threeSeries.display()\n",
        "threeSeries.start()\n",
        "\n",
        "five = FiveSeries(True,True,'BMW3','3258',2021)\n",
        "five.drive()"
      ],
      "metadata": {
        "colab": {
          "base_uri": "https://localhost:8080/"
        },
        "id": "6G1C73SIUslx",
        "outputId": "04a5aa9e-5c2e-4616-8e02-8fc9134cd0b5"
      },
      "execution_count": null,
      "outputs": [
        {
          "output_type": "stream",
          "name": "stdout",
          "text": [
            "True\n",
            "BMW3\n",
            "3258\n",
            "2021\n",
            "Button control starting\n",
            "cruiceControlEnabled True\n",
            "Button control starting\n",
            "3 driving\n"
          ]
        }
      ]
    },
    {
      "cell_type": "markdown",
      "source": [
        "##Interface\n",
        "If a class having all the abstract methods then that class is called as interface(in python)"
      ],
      "metadata": {
        "id": "zppwFHQEjpBf"
      }
    },
    {
      "cell_type": "code",
      "source": [
        "from abc import abstractmethod,ABC\n",
        "class BMW(ABC):\n",
        "  def __init__(self,make,model,year):\n",
        "    self.make = make\n",
        "    self.model = model\n",
        "    self.year = year\n",
        "\n",
        "  @abstractmethod\n",
        "  def start(self):\n",
        "    pass\n",
        "\n",
        "  @abstractmethod\n",
        "  def stop(self):\n",
        "    pass\n",
        "\n",
        "  @abstractmethod\n",
        "  def drive(self):\n",
        "    pass\n",
        "\n",
        "class ThreeSeries(BMW):\n",
        "  def __init__(self,cruiseControlEnabled,make, model, year):\n",
        "    super().__init__(make, model, year)\n",
        "    self.cruiseControlEnabled = cruiseControlEnabled\n",
        "\n",
        "  def display(self):\n",
        "    print('cruiceControlEnabled',self.cruiseControlEnabled)\n",
        "  def start(self):\n",
        "    print('Button control starting')\n",
        "  def stop(self):\n",
        "    print('stopping the car')\n",
        "  def drive(self):\n",
        "    print('3 driving')\n",
        "\n",
        "\n",
        "threeSeries = ThreeSeries(True,'BMW3','3258',2021)\n",
        "print(threeSeries.cruiseControlEnabled)\n",
        "print(threeSeries.make)\n",
        "print(threeSeries.model)\n",
        "print(threeSeries.year)\n",
        "threeSeries.start()\n",
        "threeSeries.display()\n",
        "threeSeries.start()\n",
        "threeSeries.stop()"
      ],
      "metadata": {
        "colab": {
          "base_uri": "https://localhost:8080/"
        },
        "id": "VGc_7OXahyNU",
        "outputId": "f2f3dcb4-b2a1-487d-de36-bd8f8995827e"
      },
      "execution_count": null,
      "outputs": [
        {
          "output_type": "stream",
          "name": "stdout",
          "text": [
            "True\n",
            "BMW3\n",
            "3258\n",
            "2021\n",
            "Button control starting\n",
            "cruiceControlEnabled True\n",
            "Button control starting\n",
            "stopping the car\n"
          ]
        }
      ]
    },
    {
      "cell_type": "code",
      "source": [
        "from abc import abstractmethod,ABC\n",
        "class TouchScreenLaptop(ABC):\n",
        "  @abstractmethod\n",
        "  def click(self):\n",
        "    pass\n",
        "  @abstractmethod\n",
        "  def scroll(self):\n",
        "    pass\n",
        "\n",
        "class Dell(TouchScreenLaptop):\n",
        "  def scroll(self):\n",
        "    print('Dell scrolling')\n",
        "class Hp(TouchScreenLaptop):\n",
        "  def scroll(self):\n",
        "    print('HP scrolling')\n",
        "class DellNoteBook(Dell):\n",
        "  def click(self):\n",
        "    print('Dell Note book click')\n",
        "\n",
        "class HpNoteBook(Hp):\n",
        "  def click(self):\n",
        "    print('HP Notebook clicking')\n",
        "\n",
        "d = DellNoteBook()\n",
        "d.click()\n",
        "d.scroll()\n",
        "\n",
        "h = HpNoteBook()\n",
        "h.click()\n",
        "h.scroll()"
      ],
      "metadata": {
        "colab": {
          "base_uri": "https://localhost:8080/"
        },
        "id": "S58ca5xekT0C",
        "outputId": "76dff1dc-fc84-44a3-c554-f39f16b90cfe"
      },
      "execution_count": null,
      "outputs": [
        {
          "output_type": "stream",
          "name": "stdout",
          "text": [
            "Dell Note book click\n",
            "Dell scrolling\n",
            "HP Notebook clicking\n",
            "HP scrolling\n"
          ]
        }
      ]
    },
    {
      "cell_type": "markdown",
      "source": [
        "## Exception Handling\n",
        "\n",
        "\n",
        "1.   when we won't handle exception, program will terminate abruptly from that point and nothing will be executed after that\n",
        "2.   it will give unfriendly messages to the end user\n",
        "3.   we will loose the resources like database connection or file stream(improper shutdown of resources)\n",
        "\n"
      ],
      "metadata": {
        "id": "RZNI6McBrYOe"
      }
    },
    {
      "cell_type": "markdown",
      "source": [
        "To handle run time exceptions we will use try,exception and finally\n",
        "\n",
        "finally will be used for clean up purpose\n",
        "\n"
      ],
      "metadata": {
        "id": "1kIhoMQ6r70V"
      }
    },
    {
      "cell_type": "code",
      "source": [
        "a,b = [int(x) for x in input('Enter 2 numbers').split()]\n",
        "c = a/b\n",
        "print(c)\n",
        "print('Code after exception')"
      ],
      "metadata": {
        "colab": {
          "base_uri": "https://localhost:8080/"
        },
        "id": "0AqB0ln-n4_s",
        "outputId": "59d92267-f137-414d-f005-1e9e016ed644"
      },
      "execution_count": null,
      "outputs": [
        {
          "name": "stdout",
          "output_type": "stream",
          "text": [
            "4 0\n"
          ]
        },
        {
          "output_type": "error",
          "ename": "ZeroDivisionError",
          "evalue": "ignored",
          "traceback": [
            "\u001b[0;31m---------------------------------------------------------------------------\u001b[0m",
            "\u001b[0;31mZeroDivisionError\u001b[0m                         Traceback (most recent call last)",
            "\u001b[0;32m<ipython-input-47-b3437d5b729f>\u001b[0m in \u001b[0;36m<cell line: 2>\u001b[0;34m()\u001b[0m\n\u001b[1;32m      1\u001b[0m \u001b[0ma\u001b[0m\u001b[0;34m,\u001b[0m\u001b[0mb\u001b[0m \u001b[0;34m=\u001b[0m \u001b[0;34m[\u001b[0m\u001b[0mint\u001b[0m\u001b[0;34m(\u001b[0m\u001b[0mx\u001b[0m\u001b[0;34m)\u001b[0m \u001b[0;32mfor\u001b[0m \u001b[0mx\u001b[0m \u001b[0;32min\u001b[0m \u001b[0minput\u001b[0m\u001b[0;34m(\u001b[0m\u001b[0;34m)\u001b[0m\u001b[0;34m.\u001b[0m\u001b[0msplit\u001b[0m\u001b[0;34m(\u001b[0m\u001b[0;34m)\u001b[0m\u001b[0;34m]\u001b[0m\u001b[0;34m\u001b[0m\u001b[0;34m\u001b[0m\u001b[0m\n\u001b[0;32m----> 2\u001b[0;31m \u001b[0mc\u001b[0m \u001b[0;34m=\u001b[0m \u001b[0ma\u001b[0m\u001b[0;34m/\u001b[0m\u001b[0mb\u001b[0m\u001b[0;34m\u001b[0m\u001b[0;34m\u001b[0m\u001b[0m\n\u001b[0m\u001b[1;32m      3\u001b[0m \u001b[0mprint\u001b[0m\u001b[0;34m(\u001b[0m\u001b[0mc\u001b[0m\u001b[0;34m)\u001b[0m\u001b[0;34m\u001b[0m\u001b[0;34m\u001b[0m\u001b[0m\n",
            "\u001b[0;31mZeroDivisionError\u001b[0m: division by zero"
          ]
        }
      ]
    },
    {
      "cell_type": "code",
      "source": [
        "try:\n",
        "  a,b = [int(x) for x in input('Enter 2 numbers').split()]\n",
        "  c = a/b\n",
        "  print(c)\n",
        "except ZeroDivisionError:\n",
        "  print(\"Divide by zero is not allowed\")\n",
        "  print(\"please enter non zero number\")\n",
        "print('Code after exception')"
      ],
      "metadata": {
        "colab": {
          "base_uri": "https://localhost:8080/"
        },
        "id": "VkIDTs0Pusx9",
        "outputId": "e9bf065a-6085-4dda-a196-7596fb2299e1"
      },
      "execution_count": null,
      "outputs": [
        {
          "output_type": "stream",
          "name": "stdout",
          "text": [
            "4 0\n",
            "Divide by zero is not allowed\n",
            "please enter non zero number\n",
            "Code after exception\n"
          ]
        }
      ]
    },
    {
      "cell_type": "markdown",
      "source": [
        "finally will execute whether an exception occured or not"
      ],
      "metadata": {
        "id": "FUV6UY5Uv002"
      }
    },
    {
      "cell_type": "code",
      "source": [
        "try:\n",
        "  f=open('myfile.txt','w')\n",
        "  a,b = [int(x) for x in input(\"Enter 2 numbers \").split()]\n",
        "  c = a/b\n",
        "  f.write(\"writing to file %d\"%c)\n",
        "except ZeroDivisionError:\n",
        "  print(\"Divide by zero is not allowed\")\n",
        "  print(\"please enter non zero number\")\n",
        "finally:\n",
        "  f.close()\n",
        "  print('file closed')\n",
        "print('Code after exception')"
      ],
      "metadata": {
        "colab": {
          "base_uri": "https://localhost:8080/"
        },
        "id": "VssfcOUcvWHN",
        "outputId": "211a5b9d-06b0-4cd1-d154-114432964877"
      },
      "execution_count": null,
      "outputs": [
        {
          "output_type": "stream",
          "name": "stdout",
          "text": [
            "Enter 2 numbers5 6\n",
            "file closed\n",
            "Code after exception\n"
          ]
        }
      ]
    },
    {
      "cell_type": "markdown",
      "source": [
        "If we want our code should be executed when there is no exception then that code should keep in else block"
      ],
      "metadata": {
        "id": "N8mFXIlmyGaN"
      }
    },
    {
      "cell_type": "code",
      "source": [
        "try:\n",
        "  f=open('myfile.txt','w')\n",
        "  a,b = [int(x) for x in input(\"Enter 2 numbers: \").split()]\n",
        "  c = a/b\n",
        "  f.write(\"writing to file %d\"%c)\n",
        "except ZeroDivisionError:\n",
        "  print(\"Divide by zero is not allowed\")\n",
        "  print(\"please enter non zero number\")\n",
        "else:\n",
        "  print('You have entered a non zero number')\n",
        "finally:\n",
        "  f.close()\n",
        "  print('file closed')\n",
        "print('Code after exception')"
      ],
      "metadata": {
        "colab": {
          "base_uri": "https://localhost:8080/"
        },
        "id": "MpL4DThMxcZv",
        "outputId": "fc79f802-96f5-46d1-f7c0-466da1960293"
      },
      "execution_count": null,
      "outputs": [
        {
          "output_type": "stream",
          "name": "stdout",
          "text": [
            "Enter 2 numbers: 4 0\n",
            "Divide by zero is not allowed\n",
            "please enter non zero number\n",
            "file closed\n",
            "Code after exception\n"
          ]
        }
      ]
    },
    {
      "cell_type": "markdown",
      "source": [
        "Raising custom exception"
      ],
      "metadata": {
        "id": "L39VNo6uy1Rf"
      }
    },
    {
      "cell_type": "code",
      "source": [
        "class OverLimitException(Exception):\n",
        "  def __init__(self,msg):\n",
        "    self.msg = msg\n",
        "\n",
        "def withdrawAmount(amount):\n",
        "  if amount > 500:\n",
        "    raise OverLimitException(\"You cannot withdraw more than 500 RS per day\")\n",
        "  print('amount withdrawal',amount)"
      ],
      "metadata": {
        "id": "IQ5JI6i2ycCO"
      },
      "execution_count": null,
      "outputs": []
    },
    {
      "cell_type": "code",
      "source": [
        "withdrawAmount(200)"
      ],
      "metadata": {
        "colab": {
          "base_uri": "https://localhost:8080/"
        },
        "id": "4E-s1V31zzIf",
        "outputId": "56906758-8def-4f57-d792-e6baeba0650e"
      },
      "execution_count": null,
      "outputs": [
        {
          "output_type": "stream",
          "name": "stdout",
          "text": [
            "amount withdrawal 200\n"
          ]
        }
      ]
    },
    {
      "cell_type": "code",
      "source": [
        "withdrawAmount(600)"
      ],
      "metadata": {
        "colab": {
          "base_uri": "https://localhost:8080/"
        },
        "id": "aMueruoPz5iX",
        "outputId": "42e3a7a2-a2a0-4718-edfd-91ae3493eea5"
      },
      "execution_count": null,
      "outputs": [
        {
          "output_type": "error",
          "ename": "OverLimitException",
          "evalue": "ignored",
          "traceback": [
            "\u001b[0;31m---------------------------------------------------------------------------\u001b[0m",
            "\u001b[0;31mOverLimitException\u001b[0m                        Traceback (most recent call last)",
            "\u001b[0;32m<ipython-input-67-1c40bbdae9fd>\u001b[0m in \u001b[0;36m<cell line: 1>\u001b[0;34m()\u001b[0m\n\u001b[0;32m----> 1\u001b[0;31m \u001b[0mwithdrawAmount\u001b[0m\u001b[0;34m(\u001b[0m\u001b[0;36m600\u001b[0m\u001b[0;34m)\u001b[0m\u001b[0;34m\u001b[0m\u001b[0;34m\u001b[0m\u001b[0m\n\u001b[0m",
            "\u001b[0;32m<ipython-input-65-d9eaa79cd2ce>\u001b[0m in \u001b[0;36mwithdrawAmount\u001b[0;34m(amount)\u001b[0m\n\u001b[1;32m      5\u001b[0m \u001b[0;32mdef\u001b[0m \u001b[0mwithdrawAmount\u001b[0m\u001b[0;34m(\u001b[0m\u001b[0mamount\u001b[0m\u001b[0;34m)\u001b[0m\u001b[0;34m:\u001b[0m\u001b[0;34m\u001b[0m\u001b[0;34m\u001b[0m\u001b[0m\n\u001b[1;32m      6\u001b[0m   \u001b[0;32mif\u001b[0m \u001b[0mamount\u001b[0m \u001b[0;34m>\u001b[0m \u001b[0;36m500\u001b[0m\u001b[0;34m:\u001b[0m\u001b[0;34m\u001b[0m\u001b[0;34m\u001b[0m\u001b[0m\n\u001b[0;32m----> 7\u001b[0;31m     \u001b[0;32mraise\u001b[0m \u001b[0mOverLimitException\u001b[0m\u001b[0;34m(\u001b[0m\u001b[0;34m\"You cannot withdraw more than 500 RS per day\"\u001b[0m\u001b[0;34m)\u001b[0m\u001b[0;34m\u001b[0m\u001b[0;34m\u001b[0m\u001b[0m\n\u001b[0m\u001b[1;32m      8\u001b[0m   \u001b[0mprint\u001b[0m\u001b[0;34m(\u001b[0m\u001b[0;34m'amount withdrawal'\u001b[0m\u001b[0;34m,\u001b[0m\u001b[0mamount\u001b[0m\u001b[0;34m)\u001b[0m\u001b[0;34m\u001b[0m\u001b[0;34m\u001b[0m\u001b[0m\n",
            "\u001b[0;31mOverLimitException\u001b[0m: You cannot withdraw more than 500 RS per day"
          ]
        }
      ]
    },
    {
      "cell_type": "code",
      "source": [
        "class TooYoungException(Exception):\n",
        "  def __init__(self,msg):\n",
        "    self.msg = msg\n",
        "class TooOldException(Exception):\n",
        "  def __init__(self,msg):\n",
        "    self.msg = msg\n",
        "\n",
        "age = int(input('Please enter your age: '))\n",
        "if age < 18:\n",
        "  raise TooYoungException('You should be 18+ to get license')\n",
        "elif age > 75:\n",
        "  raise TooOldException('You are too old to apply for license,age should be between(18,75)')\n",
        "else:\n",
        "  print('You are eligible')"
      ],
      "metadata": {
        "colab": {
          "base_uri": "https://localhost:8080/"
        },
        "id": "2Flxww7c0Jdg",
        "outputId": "b1adb8df-9071-44a9-c374-282ef3824669"
      },
      "execution_count": null,
      "outputs": [
        {
          "name": "stdout",
          "output_type": "stream",
          "text": [
            "Please enter your age: 89\n"
          ]
        },
        {
          "output_type": "error",
          "ename": "TooOldException",
          "evalue": "ignored",
          "traceback": [
            "\u001b[0;31m---------------------------------------------------------------------------\u001b[0m",
            "\u001b[0;31mTooOldException\u001b[0m                           Traceback (most recent call last)",
            "\u001b[0;32m<ipython-input-71-8b3016730f81>\u001b[0m in \u001b[0;36m<cell line: 9>\u001b[0;34m()\u001b[0m\n\u001b[1;32m     10\u001b[0m   \u001b[0;32mraise\u001b[0m \u001b[0mTooYoungException\u001b[0m\u001b[0;34m(\u001b[0m\u001b[0;34m'You should be 18+ to get license'\u001b[0m\u001b[0;34m)\u001b[0m\u001b[0;34m\u001b[0m\u001b[0;34m\u001b[0m\u001b[0m\n\u001b[1;32m     11\u001b[0m \u001b[0;32melif\u001b[0m \u001b[0mage\u001b[0m \u001b[0;34m>\u001b[0m \u001b[0;36m75\u001b[0m\u001b[0;34m:\u001b[0m\u001b[0;34m\u001b[0m\u001b[0;34m\u001b[0m\u001b[0m\n\u001b[0;32m---> 12\u001b[0;31m   \u001b[0;32mraise\u001b[0m \u001b[0mTooOldException\u001b[0m\u001b[0;34m(\u001b[0m\u001b[0;34m'You are too old to apply for license,age should be between(18,75)'\u001b[0m\u001b[0;34m)\u001b[0m\u001b[0;34m\u001b[0m\u001b[0;34m\u001b[0m\u001b[0m\n\u001b[0m\u001b[1;32m     13\u001b[0m \u001b[0;32melse\u001b[0m\u001b[0;34m:\u001b[0m\u001b[0;34m\u001b[0m\u001b[0;34m\u001b[0m\u001b[0m\n\u001b[1;32m     14\u001b[0m   \u001b[0mprint\u001b[0m\u001b[0;34m(\u001b[0m\u001b[0;34m'You are eligible'\u001b[0m\u001b[0;34m)\u001b[0m\u001b[0;34m\u001b[0m\u001b[0;34m\u001b[0m\u001b[0m\n",
            "\u001b[0;31mTooOldException\u001b[0m: You are too old to apply for license,age should be between(18,75)"
          ]
        }
      ]
    },
    {
      "cell_type": "markdown",
      "source": [
        "##Logging"
      ],
      "metadata": {
        "id": "YhF7sYa722VN"
      }
    },
    {
      "cell_type": "code",
      "source": [
        "import logging\n",
        "\n",
        "logging.critical(\"Critical\")\n",
        "logging.error(\"Error\")\n",
        "logging.warning(\"Warning\")\n",
        "logging.info(\"Info\")\n",
        "logging.debug(\"Debug\")"
      ],
      "metadata": {
        "colab": {
          "base_uri": "https://localhost:8080/"
        },
        "id": "akaOujP32IKd",
        "outputId": "4535c055-1500-47e1-8f67-ef2898ca950a"
      },
      "execution_count": null,
      "outputs": [
        {
          "output_type": "stream",
          "name": "stderr",
          "text": [
            "CRITICAL:root:Critical\n",
            "ERROR:root:Error\n",
            "WARNING:root:Warning\n"
          ]
        }
      ]
    },
    {
      "cell_type": "markdown",
      "source": [
        "By default log level is warning, anything thing greater than warning will be written to console(by default it is to console, not to a file)"
      ],
      "metadata": {
        "id": "lEgambkF3qFF"
      }
    },
    {
      "cell_type": "markdown",
      "source": [
        "Now we will see, how to log information to a file and set log level(file log is not working in colab, same working in local i.e. pycharm)"
      ],
      "metadata": {
        "id": "LjSZZOky3_nr"
      }
    },
    {
      "cell_type": "code",
      "source": [
        "import logging\n",
        "\n",
        "logging.basicConfig(filename=\"mylog.log\",level=logging.ERROR)\n",
        "\n",
        "logging.critical(\"Critical\")\n",
        "logging.error(\"Error\")\n",
        "logging.warning(\"Warning\")\n",
        "logging.info(\"Info\")\n",
        "logging.debug(\"Debug\")"
      ],
      "metadata": {
        "colab": {
          "base_uri": "https://localhost:8080/"
        },
        "id": "w1qFZ53X3mRr",
        "outputId": "114ff2ad-caf3-4485-cf27-716dd9986add"
      },
      "execution_count": null,
      "outputs": [
        {
          "output_type": "stream",
          "name": "stderr",
          "text": [
            "CRITICAL:root:Critical\n",
            "ERROR:root:Error\n",
            "WARNING:root:Warning\n"
          ]
        }
      ]
    },
    {
      "cell_type": "markdown",
      "source": [
        "## Assertions"
      ],
      "metadata": {
        "id": "L041ebez8fRs"
      }
    },
    {
      "cell_type": "code",
      "source": [
        "num = int(input('Enter a number: '))\n",
        "assert num%2 == 0,\"You have entered an invalid or odd number\"\n",
        "print('After assertion')"
      ],
      "metadata": {
        "colab": {
          "base_uri": "https://localhost:8080/"
        },
        "id": "a__2HM6448oR",
        "outputId": "92a17032-5426-4c82-f91c-7f7f3b8e18de"
      },
      "execution_count": null,
      "outputs": [
        {
          "output_type": "stream",
          "name": "stdout",
          "text": [
            "Enter a number: 4\n",
            "After assertion\n"
          ]
        }
      ]
    },
    {
      "cell_type": "code",
      "source": [
        "try:\n",
        "  num = int(input('Enter a number: '))\n",
        "  assert num%2 == 0,\"You have entered an invalid or odd number\"\n",
        "except AssertionError as obj:\n",
        "  print(obj)\n",
        "\n",
        "print('After assertion')"
      ],
      "metadata": {
        "colab": {
          "base_uri": "https://localhost:8080/"
        },
        "id": "eEy_CYp09e6V",
        "outputId": "7b06745d-f624-4f28-9c47-03040bbda2d0"
      },
      "execution_count": null,
      "outputs": [
        {
          "output_type": "stream",
          "name": "stdout",
          "text": [
            "Enter a number: 5\n",
            "You have entered an invalid or odd number\n",
            "After assertion\n"
          ]
        }
      ]
    },
    {
      "cell_type": "code",
      "source": [
        "class InvalidPasswordException(Exception):\n",
        "  def __init__(self,msg):\n",
        "    self.msg = msg\n",
        "try:\n",
        "  pwd = input('Please enter password: ')\n",
        "  if len(pwd) < 8:\n",
        "    raise InvalidPasswordException(\"password should be greater than 8 characters\")\n",
        "except InvalidPasswordException as obj:\n",
        "  print(obj)"
      ],
      "metadata": {
        "colab": {
          "base_uri": "https://localhost:8080/"
        },
        "id": "av2IvKop98u_",
        "outputId": "d8b557ca-c802-4bf9-c174-975a83f32993"
      },
      "execution_count": null,
      "outputs": [
        {
          "output_type": "stream",
          "name": "stdout",
          "text": [
            "Please enter password: abc\n",
            "password should be greater than 8 characters\n"
          ]
        }
      ]
    },
    {
      "cell_type": "markdown",
      "source": [
        "## Files"
      ],
      "metadata": {
        "id": "9yyH-Ne3AOl8"
      }
    },
    {
      "cell_type": "markdown",
      "source": [
        "\n",
        "\n",
        "*   files will be opened by using **open** method\n",
        "*   f=open(\"filename\",\"mode\",\"buffer\")\n",
        "\n",
        "\n",
        "*   mode will be either write/read/append i,e **(w/r/a/w+/r+/a+/x)**\n",
        "*   in write mode, everytime it will create a new file, if we use same file it will overwrite the existing file.\n",
        "*   in x(exclusive) mode, it will create new file,if we provide same file name which already exists it will throw an error\n",
        "*   if we want to do operations in binary then it is **wb/rb/ab**\n",
        "\n",
        "\n",
        "*   once everything is done, we will close with **f.close()**\n",
        "*   buffer is optional, by default it is 4096/8092\n",
        "\n",
        "\n",
        "\n",
        "\n",
        "\n"
      ],
      "metadata": {
        "id": "357jzq_9AUHr"
      }
    },
    {
      "cell_type": "code",
      "source": [
        "f = open(\"myfile.txt\",'w')\n",
        "f.write(\"Hello world\")\n",
        "f.close()"
      ],
      "metadata": {
        "id": "4MnMUtwg_U65"
      },
      "execution_count": null,
      "outputs": []
    },
    {
      "cell_type": "code",
      "source": [
        "f = open(\"myfile.txt\",'r')\n",
        "s=f.read()\n",
        "print(s)\n",
        "f.close()"
      ],
      "metadata": {
        "colab": {
          "base_uri": "https://localhost:8080/"
        },
        "id": "EOqhrUvsANn2",
        "outputId": "36a907aa-54f3-49e3-88d8-575524ffaf98"
      },
      "execution_count": null,
      "outputs": [
        {
          "output_type": "stream",
          "name": "stdout",
          "text": [
            "Hello world\n"
          ]
        }
      ]
    },
    {
      "cell_type": "markdown",
      "source": [
        "Entering multiple strings"
      ],
      "metadata": {
        "id": "9ZgI0t6MFS0K"
      }
    },
    {
      "cell_type": "code",
      "source": [
        "f = open(\"myfile1.txt\",'w')\n",
        "print(\"Please type #, when you are done\")\n",
        "s=''\n",
        "while s != '#':\n",
        "  s=str(input())\n",
        "  f.write(s)\n",
        "f.close()"
      ],
      "metadata": {
        "colab": {
          "base_uri": "https://localhost:8080/"
        },
        "id": "6aCIILk-Eghj",
        "outputId": "8c96fa26-8d64-40e3-d5fc-88be268f3c26"
      },
      "execution_count": null,
      "outputs": [
        {
          "name": "stdout",
          "output_type": "stream",
          "text": [
            "Please type #, when you are done\n",
            "You are owner of your destination\n",
            "You can do anything\n",
            "All the power lies with in you\n",
            "#\n"
          ]
        }
      ]
    },
    {
      "cell_type": "code",
      "source": [
        "f = open(\"myfile2.txt\",'w')\n",
        "print(\"Please type #, when you are done\")\n",
        "s=''\n",
        "while s != '#':\n",
        "  s=str(input())\n",
        "  f.write(s+'\\n')\n",
        "f.close()"
      ],
      "metadata": {
        "colab": {
          "base_uri": "https://localhost:8080/"
        },
        "id": "cDo34janFnFt",
        "outputId": "a33411a8-7af4-4baf-eeef-95e2c26eec3c"
      },
      "execution_count": null,
      "outputs": [
        {
          "name": "stdout",
          "output_type": "stream",
          "text": [
            "Please type #, when you are done\n",
            "You are owner of your destination\n",
            "you can do anythong\n",
            "all the power lies with in you\n",
            "#\n"
          ]
        }
      ]
    },
    {
      "cell_type": "code",
      "source": [
        "f = open(\"myfile2.txt\",'r')\n",
        "s=f.read()\n",
        "print(s)\n",
        "f.close()"
      ],
      "metadata": {
        "colab": {
          "base_uri": "https://localhost:8080/"
        },
        "id": "tU0U3kWKGCxv",
        "outputId": "ede950ff-93b0-454c-b5f7-aa95d2ba8474"
      },
      "execution_count": null,
      "outputs": [
        {
          "output_type": "stream",
          "name": "stdout",
          "text": [
            "You are owner of your destination\n",
            "you can do anythong\n",
            "all the power lies with in you\n",
            "#\n",
            "\n"
          ]
        }
      ]
    },
    {
      "cell_type": "code",
      "source": [
        "f = open(\"myfile3.txt\",'r')\n",
        "s=f.read()\n",
        "print(s)\n",
        "f.close()"
      ],
      "metadata": {
        "colab": {
          "base_uri": "https://localhost:8080/"
        },
        "id": "Hk1fPLdAGdW6",
        "outputId": "a3bd99b2-df90-4cc1-adca-7b4a84c0d219"
      },
      "execution_count": null,
      "outputs": [
        {
          "output_type": "error",
          "ename": "FileNotFoundError",
          "evalue": "ignored",
          "traceback": [
            "\u001b[0;31m---------------------------------------------------------------------------\u001b[0m",
            "\u001b[0;31mFileNotFoundError\u001b[0m                         Traceback (most recent call last)",
            "\u001b[0;32m<ipython-input-100-6d404c1fd318>\u001b[0m in \u001b[0;36m<cell line: 1>\u001b[0;34m()\u001b[0m\n\u001b[0;32m----> 1\u001b[0;31m \u001b[0mf\u001b[0m \u001b[0;34m=\u001b[0m \u001b[0mopen\u001b[0m\u001b[0;34m(\u001b[0m\u001b[0;34m\"myfile3.txt\"\u001b[0m\u001b[0;34m,\u001b[0m\u001b[0;34m'r'\u001b[0m\u001b[0;34m)\u001b[0m\u001b[0;34m\u001b[0m\u001b[0;34m\u001b[0m\u001b[0m\n\u001b[0m\u001b[1;32m      2\u001b[0m \u001b[0ms\u001b[0m\u001b[0;34m=\u001b[0m\u001b[0mf\u001b[0m\u001b[0;34m.\u001b[0m\u001b[0mread\u001b[0m\u001b[0;34m(\u001b[0m\u001b[0;34m)\u001b[0m\u001b[0;34m\u001b[0m\u001b[0;34m\u001b[0m\u001b[0m\n\u001b[1;32m      3\u001b[0m \u001b[0mprint\u001b[0m\u001b[0;34m(\u001b[0m\u001b[0ms\u001b[0m\u001b[0;34m)\u001b[0m\u001b[0;34m\u001b[0m\u001b[0;34m\u001b[0m\u001b[0m\n\u001b[1;32m      4\u001b[0m \u001b[0mf\u001b[0m\u001b[0;34m.\u001b[0m\u001b[0mclose\u001b[0m\u001b[0;34m(\u001b[0m\u001b[0;34m)\u001b[0m\u001b[0;34m\u001b[0m\u001b[0;34m\u001b[0m\u001b[0m\n",
            "\u001b[0;31mFileNotFoundError\u001b[0m: [Errno 2] No such file or directory: 'myfile3.txt'"
          ]
        }
      ]
    },
    {
      "cell_type": "markdown",
      "source": [
        "to overcome the above error, before reading any file it is better to check whether the file exists or not\n",
        "\n",
        "And we will do this by using os methods"
      ],
      "metadata": {
        "id": "zhnJJoh3Gvur"
      }
    },
    {
      "cell_type": "code",
      "source": [
        "import os,sys\n",
        "\n",
        "if os.path.isfile('myfile2.txt'):\n",
        "  f = open(\"myfile2.txt\",'r')\n",
        "  s=f.read()\n",
        "  print(s)\n",
        "  f.close()\n",
        "else:\n",
        "  print('myfile2.txt doesnt exist')\n"
      ],
      "metadata": {
        "colab": {
          "base_uri": "https://localhost:8080/"
        },
        "id": "5r-H2ehqGtoM",
        "outputId": "d62feaaf-16d3-4913-fb06-cbd2789080a4"
      },
      "execution_count": null,
      "outputs": [
        {
          "output_type": "stream",
          "name": "stdout",
          "text": [
            "You are owner of your destination\n",
            "you can do anythong\n",
            "all the power lies with in you\n",
            "#\n",
            "\n"
          ]
        }
      ]
    },
    {
      "cell_type": "code",
      "source": [
        "import os,sys\n",
        "\n",
        "if os.path.isfile('myfile3.txt'):\n",
        "  f = open(\"myfile3.txt\",'r')\n",
        "  s=f.read()\n",
        "  print(s)\n",
        "  f.close()\n",
        "else:\n",
        "  print('myfile3.txt doesnt exist')"
      ],
      "metadata": {
        "colab": {
          "base_uri": "https://localhost:8080/"
        },
        "id": "xbl-0H_hH_GV",
        "outputId": "652f636c-4511-42d6-d7c3-e1f4e48c2c91"
      },
      "execution_count": null,
      "outputs": [
        {
          "output_type": "stream",
          "name": "stdout",
          "text": [
            "myfile3.txt doesnt exist\n"
          ]
        }
      ]
    },
    {
      "cell_type": "markdown",
      "source": [
        "\n",
        "\n",
        "*   To serialiaze any data we go for pickle and for deserialize we go for unpickle\n",
        "*   we will do serialize using **pickle.dump()** method and deserialize using **pickle.load()**\n",
        "*   pickle.dump() accepts two paramerters i.e. object to be serialized and the file needs to write\n",
        "\n"
      ],
      "metadata": {
        "id": "UkPpZT_YISII"
      }
    },
    {
      "cell_type": "code",
      "source": [
        "class Student:\n",
        "  def __init__(self,id,name,marks):\n",
        "    self.id = id\n",
        "    self.name = name\n",
        "    self.marks = marks\n",
        "  def display(self):\n",
        "    print(self.id,self.name,self.marks)"
      ],
      "metadata": {
        "id": "aqfT9dCSIK_N"
      },
      "execution_count": null,
      "outputs": []
    },
    {
      "cell_type": "code",
      "source": [
        "import pickle\n",
        "\n",
        "f = open(\"student.dat\",'wb')\n",
        "s = Student(12,'Ravi',89)\n",
        "pickle.dump(s,f)\n",
        "f.close()"
      ],
      "metadata": {
        "id": "VvChopDeKiQk"
      },
      "execution_count": null,
      "outputs": []
    },
    {
      "cell_type": "code",
      "source": [
        "import pickle\n",
        "\n",
        "f = open(\"student.dat\",'rb')\n",
        "s = pickle.load(f)\n",
        "s.display()\n",
        "f.close()"
      ],
      "metadata": {
        "colab": {
          "base_uri": "https://localhost:8080/"
        },
        "id": "7XcdRFlyK7A-",
        "outputId": "106fdb7c-0ed8-4ea4-c0c6-10250a912a3e"
      },
      "execution_count": null,
      "outputs": [
        {
          "output_type": "stream",
          "name": "stdout",
          "text": [
            "12 Ravi 89\n"
          ]
        }
      ]
    },
    {
      "cell_type": "code",
      "source": [
        "f = open(\"sample.txt\",'r')\n",
        "r = f.read()\n",
        "print(r)\n",
        "rl = f.readline()\n",
        "print(rl) # it is not giving any o/p as read itself moved curser to the end"
      ],
      "metadata": {
        "colab": {
          "base_uri": "https://localhost:8080/"
        },
        "id": "TQfF_JeDLZFR",
        "outputId": "ae1e04c9-1220-415a-c40e-c34baaa6a39a"
      },
      "execution_count": null,
      "outputs": [
        {
          "output_type": "stream",
          "name": "stdout",
          "text": [
            "docker\n",
            "python\n",
            "java\n",
            "pyspark\n",
            "databricks\n",
            "\n"
          ]
        }
      ]
    },
    {
      "cell_type": "markdown",
      "source": [
        "if we want to move cursor to particular line while reading files we use **seek(number)** method"
      ],
      "metadata": {
        "id": "YtKKad81RHJV"
      }
    },
    {
      "cell_type": "code",
      "source": [
        "f = open(\"sample.txt\",'r')\n",
        "r = f.read()\n",
        "print(r)\n",
        "f.seek(0)\n",
        "print()\n",
        "rl = f.readline()\n",
        "print(rl)\n",
        "f.seek(0)\n",
        "rls = f.readlines()\n",
        "print(rls)"
      ],
      "metadata": {
        "colab": {
          "base_uri": "https://localhost:8080/"
        },
        "id": "LJLb1XZEQ6Co",
        "outputId": "67dd336b-9086-40a5-e611-2829fca9cffc"
      },
      "execution_count": null,
      "outputs": [
        {
          "output_type": "stream",
          "name": "stdout",
          "text": [
            "docker\n",
            "python\n",
            "java\n",
            "pyspark\n",
            "databricks\n",
            "\n",
            "docker\n",
            "\n",
            "['docker\\n', 'python\\n', 'java\\n', 'pyspark\\n', 'databricks']\n"
          ]
        }
      ]
    },
    {
      "cell_type": "markdown",
      "source": [
        "we can provide how many characters we want to read for all the read associate methods"
      ],
      "metadata": {
        "id": "GcMzEYwpRoED"
      }
    },
    {
      "cell_type": "code",
      "source": [
        "f = open(\"sample.txt\",'r')\n",
        "r = f.read(3)\n",
        "print(r)\n",
        "f.seek(0)\n",
        "print()\n",
        "rl = f.readline(5)\n",
        "print(rl)\n",
        "f.seek(0)\n",
        "rls = f.readlines(15)\n",
        "print(rls)"
      ],
      "metadata": {
        "colab": {
          "base_uri": "https://localhost:8080/"
        },
        "id": "0oIomWBBRdfq",
        "outputId": "347602f1-be9d-47ce-c557-b62c4025e577"
      },
      "execution_count": null,
      "outputs": [
        {
          "output_type": "stream",
          "name": "stdout",
          "text": [
            "doc\n",
            "\n",
            "docke\n",
            "['docker\\n', 'python\\n', 'java\\n']\n"
          ]
        }
      ]
    },
    {
      "cell_type": "code",
      "source": [
        "f = open(\"sample.txt\",'r')\n",
        "r = f.read(5)\n",
        "print(r)\n",
        "f.seek(0)\n",
        "print()\n",
        "rl = f.readline(5)\n",
        "print(rl)\n",
        "f.seek(0)\n",
        "rls = f.readlines(10)\n",
        "print(rls)"
      ],
      "metadata": {
        "colab": {
          "base_uri": "https://localhost:8080/"
        },
        "id": "WZkQjO8NRy0e",
        "outputId": "0fc6de42-cbff-426b-da1d-5350e55e100c"
      },
      "execution_count": null,
      "outputs": [
        {
          "output_type": "stream",
          "name": "stdout",
          "text": [
            "docke\n",
            "\n",
            "docke\n",
            "['docker\\n', 'python\\n']\n"
          ]
        }
      ]
    },
    {
      "cell_type": "code",
      "source": [
        "f = open(\"sample.txt\",'w+')\n",
        "f.write('Python is awesome \\n')\n",
        "f.writelines(['python \\n','spark \\n'])\n",
        "print(f.read()) # read is not giving anything as cursor is at end while writing\n",
        "f.close()"
      ],
      "metadata": {
        "colab": {
          "base_uri": "https://localhost:8080/"
        },
        "id": "gVNGtrFpSA4L",
        "outputId": "b6651265-85cb-48fd-ddf9-f47857553362"
      },
      "execution_count": null,
      "outputs": [
        {
          "output_type": "stream",
          "name": "stdout",
          "text": [
            "\n"
          ]
        }
      ]
    },
    {
      "cell_type": "code",
      "source": [
        "f = open(\"sample.txt\",'w+')\n",
        "f.write('Python is awesome \\n')\n",
        "f.writelines(['python \\n','spark \\n'])\n",
        "f.seek(0)\n",
        "print(f.read())\n",
        "f.close()"
      ],
      "metadata": {
        "colab": {
          "base_uri": "https://localhost:8080/"
        },
        "id": "xukjzU9ZVmMi",
        "outputId": "02b9e049-cfc0-4bc2-e153-c7f563dd45ef"
      },
      "execution_count": null,
      "outputs": [
        {
          "output_type": "stream",
          "name": "stdout",
          "text": [
            "Python is awesome \n",
            "python \n",
            "spark \n",
            "\n"
          ]
        }
      ]
    },
    {
      "cell_type": "code",
      "source": [
        "#to know whrere the cursor present now we will use tell method\n",
        "f = open(\"sample.txt\",'w+')\n",
        "f.write('Python is awesome \\n')\n",
        "f.writelines(['python \\n','spark \\n'])\n",
        "print('cursor is at:',f.tell())\n",
        "f.seek(0)\n",
        "print('cursor is at:',f.tell())\n",
        "print(f.read())\n",
        "print('cursor is at:',f.tell())\n",
        "f.close()"
      ],
      "metadata": {
        "colab": {
          "base_uri": "https://localhost:8080/"
        },
        "id": "Y19iXzk_WMni",
        "outputId": "a96ccfcf-21f8-4181-91ca-0996292ca505"
      },
      "execution_count": null,
      "outputs": [
        {
          "output_type": "stream",
          "name": "stdout",
          "text": [
            "cursor is at: 34\n",
            "cursor is at: 0\n",
            "Python is awesome \n",
            "python \n",
            "spark \n",
            "\n",
            "cursor is at: 34\n"
          ]
        }
      ]
    },
    {
      "cell_type": "code",
      "source": [
        "f = open(\"sample.txt\",'a+')\n",
        "print('cursor is at:',f.tell())\n",
        "f.write(\"Django is for web development \\n\")\n",
        "print('cursor is at:',f.tell())\n",
        "f.seek(0)\n",
        "a=[]\n",
        "for l in f:\n",
        "  a.append(l)\n",
        "print(a)\n",
        "f.close()"
      ],
      "metadata": {
        "colab": {
          "base_uri": "https://localhost:8080/"
        },
        "id": "7U3WsalAWhwr",
        "outputId": "624d81ef-7e45-4903-9f2f-0a57e219d9e0"
      },
      "execution_count": null,
      "outputs": [
        {
          "output_type": "stream",
          "name": "stdout",
          "text": [
            "cursor is at: 34\n",
            "cursor is at: 65\n",
            "['Python is awesome \\n', 'python \\n', 'spark \\n', 'Django is for web development \\n']\n"
          ]
        }
      ]
    },
    {
      "cell_type": "code",
      "source": [
        "f = open(\"sample.txt\",'r+')\n",
        "print(len(f.read().split('\\n')))"
      ],
      "metadata": {
        "colab": {
          "base_uri": "https://localhost:8080/"
        },
        "id": "tS_fudgKXPas",
        "outputId": "4ab4e3b2-2447-4f72-ee2c-35c289bd84c6"
      },
      "execution_count": null,
      "outputs": [
        {
          "output_type": "stream",
          "name": "stdout",
          "text": [
            "5\n"
          ]
        }
      ]
    },
    {
      "cell_type": "markdown",
      "source": [
        "#Regular Expressions"
      ],
      "metadata": {
        "id": "pS8xD5slzC4F"
      }
    },
    {
      "cell_type": "markdown",
      "source": [
        "\n",
        "\n",
        "*   **\\d** for digits\n",
        "*   **\\D** for non digits\n",
        "*   **\\s** for white space\n",
        "*   **\\S** non white space\n",
        "*   **\\w** alpha numeric characters\n",
        "*   **\\W** non alpha numeric characters\n",
        "*   **\\b** space around words\n",
        "*   **\\A** search at start of the string\n",
        "*   **\\Z** search at the end of the string\n",
        "\n"
      ],
      "metadata": {
        "id": "IlX_gvMt9qpj"
      }
    },
    {
      "cell_type": "code",
      "source": [
        "import re\n",
        "\n",
        "s1 = \"Take one at a time, This one and One is good idea\"\n",
        "# search will return the first occurence\n",
        "# if no match found it will throw error\n",
        "r1 = re.search(r'o\\w\\w',s1)\n",
        "print(r1.group())\n",
        "r2 = re.search(r'O\\w\\w',s1)\n",
        "print(r2.group())\n",
        "r3 = re.search(r'O\\w',s1)\n",
        "print(r3.group())"
      ],
      "metadata": {
        "colab": {
          "base_uri": "https://localhost:8080/"
        },
        "id": "VWYQUOcp0QR8",
        "outputId": "c5839b2a-8178-4b23-dd97-29746736ac67"
      },
      "execution_count": null,
      "outputs": [
        {
          "output_type": "stream",
          "name": "stdout",
          "text": [
            "one\n",
            "One\n",
            "On\n"
          ]
        }
      ]
    },
    {
      "cell_type": "markdown",
      "source": [
        "\n",
        "\n",
        "*   findall will returns all the matching occurences and will give results in a list,if no match it will return empty list\n",
        "*   match will search for the pattern at the start,if pattern found it will return,if not found it will return None\n",
        "\n"
      ],
      "metadata": {
        "id": "klAGVWczBqLi"
      }
    },
    {
      "cell_type": "code",
      "source": [
        "import re\n",
        "\n",
        "s1 = \"Take one at a time, This one One is good idea\"\n",
        "r1= re.findall(r'o\\w\\w',s1)\n",
        "print(r1)\n",
        "r2= re.findall(r'O\\w\\w',s1)\n",
        "print(r2)\n",
        "\n",
        "r3= re.match(r'o\\w\\w',s1)\n",
        "print(r3)\n",
        "\n",
        "r4= re.match(r'T\\w\\w',s1)\n",
        "print(r4)\n",
        "print(r4.group())"
      ],
      "metadata": {
        "colab": {
          "base_uri": "https://localhost:8080/"
        },
        "id": "q1iyWkm9AYRE",
        "outputId": "f01f8f10-79d9-430d-9597-8cb51b029097"
      },
      "execution_count": null,
      "outputs": [
        {
          "output_type": "stream",
          "name": "stdout",
          "text": [
            "['one', 'one', 'ood']\n",
            "['One']\n",
            "None\n",
            "<re.Match object; span=(0, 3), match='Tak'>\n",
            "Tak\n"
          ]
        }
      ]
    },
    {
      "cell_type": "code",
      "source": [
        "# split will split based on the pattern and will provide result in a list\n",
        "import re\n",
        "\n",
        "s1 = \"Take one 1 at a time, This one23 One is good45 idea\"\n",
        "r1= re.split(r'\\d',s1)\n",
        "print(r1)\n",
        "r2= re.split(r'\\d+',s1)\n",
        "print(r2)"
      ],
      "metadata": {
        "colab": {
          "base_uri": "https://localhost:8080/"
        },
        "id": "0UfhzzLjCWAJ",
        "outputId": "3f391e39-62cd-4d4e-cb39-61cdd3fcc26e"
      },
      "execution_count": null,
      "outputs": [
        {
          "output_type": "stream",
          "name": "stdout",
          "text": [
            "['Take one ', ' at a time, This one', '', ' One is good', '', ' idea']\n",
            "['Take one ', ' at a time, This one', ' One is good', ' idea']\n"
          ]
        }
      ]
    },
    {
      "cell_type": "code",
      "source": [
        "#sub method replace old with new string for all the occurences\n",
        "import re\n",
        "\n",
        "s1 = \"Take one at a time, This one One is good idea\"\n",
        "r1= re.sub(r'one','two',s1)\n",
        "print(r1)"
      ],
      "metadata": {
        "colab": {
          "base_uri": "https://localhost:8080/"
        },
        "id": "egVDyB_ZFUJa",
        "outputId": "35b0dd6c-40c3-4df5-83cb-2d8c675a2d0c"
      },
      "execution_count": null,
      "outputs": [
        {
          "output_type": "stream",
          "name": "stdout",
          "text": [
            "Take two at a time, This two One is good idea\n"
          ]
        }
      ]
    },
    {
      "cell_type": "markdown",
      "source": [
        "Quantifiers\n",
        "\n",
        "\n",
        "*   **+** one or more occurences (ex: \\d+ means one or more occurences of digits)\n",
        "*   \\* means zero or more occurences\n",
        "*   **?** means zero or one occurence\n",
        "*   **{m}** exact m occurences(m should be an  integer)\n",
        "*   **{m,n}** means m is min occurences and n is max occurences\n",
        "\n"
      ],
      "metadata": {
        "id": "LCVSUz0CFgts"
      }
    },
    {
      "cell_type": "code",
      "source": [
        "import re\n",
        "\n",
        "s1 = \"Take one at a time, This one One is good idea\"\n",
        "r1= re.findall(r'o\\w+',s1)\n",
        "print(r1)\n",
        "\n",
        "r2= re.findall(r'o\\w*',s1)\n",
        "print(r2)\n",
        "\n",
        "r3= re.findall(r'o\\w?',s1)\n",
        "print(r3)\n",
        "\n",
        "r4= re.findall(r'o\\w{5}',s1)\n",
        "print(r4)\n",
        "\n",
        "r5= re.findall(r'o\\w{1,7}',s1)\n",
        "print(r5)"
      ],
      "metadata": {
        "colab": {
          "base_uri": "https://localhost:8080/"
        },
        "id": "0ZShlzwSHXU5",
        "outputId": "874ec097-19db-47d7-c9cb-c639d0ce95c7"
      },
      "execution_count": null,
      "outputs": [
        {
          "output_type": "stream",
          "name": "stdout",
          "text": [
            "['one', 'one', 'ood']\n",
            "['one', 'one', 'ood']\n",
            "['on', 'on', 'oo']\n",
            "[]\n",
            "['one', 'one', 'ood']\n"
          ]
        }
      ]
    },
    {
      "cell_type": "code",
      "source": [
        "#finding date patterns using re.findall(r'\\d{1,2}-\\d{1,2}-\\d{4}',str)\n",
        "s1 = \"Take one at 12-11-2023 a time, This one One 5-6-2024is good idea 6-06-2012 \"\n",
        "r1= re.findall(r'\\d{1,2}-\\d{1,2}-\\d{4}',s1)\n",
        "print(r1)"
      ],
      "metadata": {
        "colab": {
          "base_uri": "https://localhost:8080/"
        },
        "id": "ps9hCuylKlwb",
        "outputId": "f2a2aca3-4732-484b-c8a2-40c87df91c51"
      },
      "execution_count": null,
      "outputs": [
        {
          "output_type": "stream",
          "name": "stdout",
          "text": [
            "['12-11-2023', '5-6-2024', '6-06-2012']\n"
          ]
        }
      ]
    },
    {
      "cell_type": "markdown",
      "source": [
        "Special Characters\n",
        "\n",
        "\n",
        "*   **\\** uses for escaping(escape character)\n",
        "*   **.** matches any character except new line\n",
        "*   **^** search at the beginning of the string\n",
        "*   **$** search at the end of the string\n",
        "*   **[...]** search for specific ranges eg:[a,z] search for characters between a to z\n",
        "*   **[^...]** opposite of above(search for non matching range)\n",
        "*   **(...)**  serach for the matched reg expression\n",
        "*   **(R | S)** we can pass multiple reg expressions by using **|**\n",
        "\n",
        "\n"
      ],
      "metadata": {
        "id": "Em9ZXs1DM-I5"
      }
    },
    {
      "cell_type": "code",
      "source": [
        "import re\n",
        "s1 = \"Take one at 12-11-2023 a time, This one One 5-6-2024is good idea 6-06-2012\"\n",
        "r1= re.findall(r'^O\\w+',s1)\n",
        "print(r1)\n",
        "\n",
        "r2= re.findall(r'^T\\w+',s1)\n",
        "print(r2)\n",
        "\n",
        "r3= re.findall(r'.\\d+',s1)\n",
        "print(r3)\n",
        "\n",
        "r4= re.findall(r'$\\d+',s1)\n",
        "print(r4)"
      ],
      "metadata": {
        "colab": {
          "base_uri": "https://localhost:8080/"
        },
        "id": "sTamx8uAMW8Q",
        "outputId": "c9520ced-80fe-4aae-e56a-7d0ce1817a8c"
      },
      "execution_count": null,
      "outputs": [
        {
          "output_type": "stream",
          "name": "stdout",
          "text": [
            "[]\n",
            "['Take']\n",
            "[' 12', '-11', '-2023', ' 5', '-6', '-2024', ' 6', '-06', '-2012']\n",
            "[]\n"
          ]
        }
      ]
    },
    {
      "cell_type": "markdown",
      "source": [
        "## Date and Time"
      ],
      "metadata": {
        "id": "_Q666LVaPOv5"
      }
    },
    {
      "cell_type": "markdown",
      "source": [
        "\n",
        "\n",
        "*   epoch:Jan 1st 1970\n",
        "*   ctime():time\n",
        "*   datetime:time\n",
        "\n"
      ],
      "metadata": {
        "id": "2Sr9fHo-PYlR"
      }
    },
    {
      "cell_type": "code",
      "source": [
        "import time\n",
        "\n",
        "es = time.time()\n",
        "print(es)\n",
        "\n",
        "t = time.ctime(es)\n",
        "print(t)"
      ],
      "metadata": {
        "colab": {
          "base_uri": "https://localhost:8080/"
        },
        "id": "7wvMAGgdOYrG",
        "outputId": "0e333705-d7b6-4d68-d161-009eba399f74"
      },
      "execution_count": null,
      "outputs": [
        {
          "output_type": "stream",
          "name": "stdout",
          "text": [
            "1687070820.333672\n",
            "Sun Jun 18 06:47:00 2023\n"
          ]
        }
      ]
    },
    {
      "cell_type": "code",
      "source": [
        "import datetime\n",
        "\n",
        "d = datetime.datetime.today()\n",
        "print(d)\n",
        "print(d.day,d.month,d.year)\n",
        "print(d.hour,d.minute,d.second)\n",
        "\n",
        "print('current date : {}/{}/{}'.format(d.day,d.month,d.year))\n",
        "print('current time : {}:{}:{}'.format(d.hour,d.minute,d.second))"
      ],
      "metadata": {
        "colab": {
          "base_uri": "https://localhost:8080/"
        },
        "id": "OC06n72AQda0",
        "outputId": "c1a34795-caa4-4ca4-89c8-dae37879ac38"
      },
      "execution_count": null,
      "outputs": [
        {
          "output_type": "stream",
          "name": "stdout",
          "text": [
            "2023-06-18 06:51:44.165004\n",
            "18 6 2023\n",
            "6 51 44\n",
            "current date : 18/6/2023\n",
            "current time : 6:51:44\n"
          ]
        }
      ]
    },
    {
      "cell_type": "code",
      "source": [
        "from datetime import date,time\n",
        "\n",
        "d = date(2018,7,21)\n",
        "t= time(12,45)\n",
        "dt = datetime.combine(d,t)\n",
        "print(dt)"
      ],
      "metadata": {
        "colab": {
          "base_uri": "https://localhost:8080/"
        },
        "id": "eyBnNqTaQq1S",
        "outputId": "f2160af9-c699-449a-e77d-5dab79a683aa"
      },
      "execution_count": null,
      "outputs": [
        {
          "output_type": "stream",
          "name": "stdout",
          "text": [
            "2018-07-21 12:45:00\n"
          ]
        }
      ]
    },
    {
      "cell_type": "code",
      "source": [
        "from datetime import date\n",
        "dates_list=[]\n",
        "\n",
        "d1 = date(2018,8,12)\n",
        "d2 = date(2017,8,12)\n",
        "d3 = date(2012,8,12)\n",
        "\n",
        "dates_list.append(d1)\n",
        "dates_list.append(d2)\n",
        "dates_list.append(d3)\n",
        "\n",
        "dates_list.sort()\n",
        "for d in dates_list:\n",
        "  print(d)\n"
      ],
      "metadata": {
        "colab": {
          "base_uri": "https://localhost:8080/"
        },
        "id": "LvLmdfQ9Tlgv",
        "outputId": "d74e2b43-2d43-42d0-c4a0-8a8f268f614a"
      },
      "execution_count": null,
      "outputs": [
        {
          "output_type": "stream",
          "name": "stdout",
          "text": [
            "2012-08-12\n",
            "2017-08-12\n",
            "2018-08-12\n"
          ]
        }
      ]
    },
    {
      "cell_type": "code",
      "source": [
        "from time import sleep\n",
        "# we can temporarly halt the execution by using sleep method\n",
        "print('Hello')\n",
        "sleep(5)\n",
        "print('are you sleeping?')"
      ],
      "metadata": {
        "colab": {
          "base_uri": "https://localhost:8080/"
        },
        "id": "LJK8YW8QUfgR",
        "outputId": "b9e75abf-0a75-460b-e838-eaa3822edc33"
      },
      "execution_count": null,
      "outputs": [
        {
          "output_type": "stream",
          "name": "stdout",
          "text": [
            "Hello\n",
            "are you sleeping?\n"
          ]
        }
      ]
    },
    {
      "cell_type": "code",
      "source": [
        "import datetime,time\n",
        "\n",
        "start_time = time.perf_counter()\n",
        "dates_list=[]\n",
        "print(\"started\")\n",
        "d1 = date(2018,8,12)\n",
        "d2 = date(2017,8,12)\n",
        "d3 = date(2012,8,12)\n",
        "\n",
        "dates_list.append(d1)\n",
        "dates_list.append(d2)\n",
        "dates_list.append(d3)\n",
        "sleep(5)\n",
        "\n",
        "dates_list.sort()\n",
        "for d in dates_list:\n",
        "  print(d)\n",
        "\n",
        "end_time = time.perf_counter()\n",
        "print('ended')\n",
        "print('Total time taken: ',end_time - start_time)"
      ],
      "metadata": {
        "colab": {
          "base_uri": "https://localhost:8080/"
        },
        "id": "0vgjOZu8VO_H",
        "outputId": "56cacd68-0410-4fca-b383-cda0a595f663"
      },
      "execution_count": null,
      "outputs": [
        {
          "output_type": "stream",
          "name": "stdout",
          "text": [
            "started\n",
            "2012-08-12\n",
            "2017-08-12\n",
            "2018-08-12\n",
            "ended\n",
            "Total time taken:  5.007604430000356\n"
          ]
        }
      ]
    },
    {
      "cell_type": "code",
      "source": [
        "from datetime import *\n",
        "def validatecard(expiryDate):\n",
        "  if expiryDate > datetime.now().date():\n",
        "    print(\"valid\")\n",
        "  else:\n",
        "    print(\"expired\")\n",
        "\n",
        "validatecard(date(2023,12,12))\n",
        "validatecard(date(2023,5,12))"
      ],
      "metadata": {
        "colab": {
          "base_uri": "https://localhost:8080/"
        },
        "id": "1RY78TJMWCXd",
        "outputId": "ccaa6848-ff84-45b5-bead-d6c80ac47a37"
      },
      "execution_count": null,
      "outputs": [
        {
          "output_type": "stream",
          "name": "stdout",
          "text": [
            "valid\n",
            "expired\n"
          ]
        }
      ]
    },
    {
      "cell_type": "code",
      "source": [
        "from datetime import *\n",
        "\n",
        "class Project:\n",
        "  def __init__(self,name,startDate,endDate):\n",
        "    self.name = name\n",
        "    self.startDate = startDate\n",
        "    self.endDate = endDate\n",
        "    self.tasks=[]\n",
        "\n",
        "  def addTasks(self,task):\n",
        "    self.tasks.append(task)\n",
        "\n",
        "class Task:\n",
        "  def __init__(self,name,duration):\n",
        "    self.name = name\n",
        "    self.duration = duration\n",
        "    self.resources=[]\n",
        "\n",
        "  def addResources(self,resource):\n",
        "    self.resources.append(resource)\n",
        "\n",
        "class Resource:\n",
        "  def __init__(self,name,skill):\n",
        "    self.name = name\n",
        "    self.skill = skill\n",
        "\n",
        "project = Project('AI',date(2023,1,1),date(2024,1,1))\n",
        "task = Task('Create Bot',90)\n",
        "project.addTasks(task)\n",
        "resource = Resource('Venkat','Python')\n",
        "task.addResources(resource)\n",
        "\n",
        "for eachTask in project.tasks:\n",
        "  print(eachTask.name)\n",
        "  for resource in eachTask.resources:\n",
        "    print(resource.name,resource.skill)"
      ],
      "metadata": {
        "colab": {
          "base_uri": "https://localhost:8080/"
        },
        "id": "f-_Lv8xnXbvY",
        "outputId": "b851cf00-326a-4e12-e77e-5bf61b487648"
      },
      "execution_count": null,
      "outputs": [
        {
          "output_type": "stream",
          "name": "stdout",
          "text": [
            "Create Bot\n",
            "Venkat Python\n"
          ]
        }
      ]
    },
    {
      "cell_type": "code",
      "source": [
        "from datetime import *\n",
        "\n",
        "class Event:\n",
        "  def __init__(self,name,startDate,endDate):\n",
        "    self.name = name\n",
        "    self.startDate = startDate\n",
        "    self.endDate = endDate\n",
        "    self.venues = []\n",
        "\n",
        "  def addVenue(self,venue):\n",
        "    self.venues.append(venue)\n",
        "\n",
        "class Venue:\n",
        "  def __init__(self,name):\n",
        "    self.name = name\n",
        "    self.addresses = []\n",
        "\n",
        "  def addAddress(self,address):\n",
        "    self.addresses.append(address)\n",
        "\n",
        "class Address:\n",
        "  def __init__(self,street,city,state,country,zipcode):\n",
        "    self.street = street\n",
        "    self.city = city\n",
        "    self.state = state\n",
        "    self.country = country\n",
        "    self.zipcode = zipcode\n",
        "\n",
        "event = Event(\"ABC\",date(2023,2,3),date(2023,2,4))\n",
        "venue = Venue(\"XYZ kalyanamandapam\")\n",
        "address = Address(\"PQR\",\"TST\",\"AP\",\"IND\",560037)\n",
        "venue.addAddress(address)\n",
        "event.addVenue(venue)\n",
        "\n",
        "for eachVenue in event.venues:\n",
        "  for eachAddress in venue.addresses:\n",
        "    print(event.name,eachVenue.name,eachAddress.street,eachAddress.city,eachAddress.state,eachAddress.country,eachAddress.zipcode)\n"
      ],
      "metadata": {
        "colab": {
          "base_uri": "https://localhost:8080/"
        },
        "id": "IMpuJjwzboP2",
        "outputId": "7cb58e31-2674-40da-eae9-497ff95cbfee"
      },
      "execution_count": null,
      "outputs": [
        {
          "output_type": "stream",
          "name": "stdout",
          "text": [
            "ABC XYZ kalyanamandapam PQR TST AP IND 560037\n"
          ]
        }
      ]
    },
    {
      "cell_type": "markdown",
      "source": [
        "## Threads(Multi Threading)"
      ],
      "metadata": {
        "id": "fFvUTuJuh5G7"
      }
    },
    {
      "cell_type": "code",
      "source": [
        "#main thread\n",
        "import threading\n",
        "\n",
        "print(threading.current_thread().getName())\n",
        "print(threading.current_thread().name)"
      ],
      "metadata": {
        "colab": {
          "base_uri": "https://localhost:8080/"
        },
        "id": "eK9hlt1MgIRB",
        "outputId": "7fca1a80-76e8-4e13-d528-81397a5f6ee3"
      },
      "execution_count": null,
      "outputs": [
        {
          "output_type": "stream",
          "name": "stdout",
          "text": [
            "MainThread\n",
            "MainThread\n"
          ]
        },
        {
          "output_type": "stream",
          "name": "stderr",
          "text": [
            "<ipython-input-57-f27e0aeff51d>:4: DeprecationWarning: getName() is deprecated, get the name attribute instead\n",
            "  print(threading.current_thread().getName())\n"
          ]
        }
      ]
    },
    {
      "cell_type": "code",
      "source": [
        "import threading\n",
        "\n",
        "if threading.current_thread() == threading.main_thread():\n",
        "  print(\"Running on main thread\")\n",
        "else:\n",
        "  print(\"running using chlid threads\")"
      ],
      "metadata": {
        "colab": {
          "base_uri": "https://localhost:8080/"
        },
        "id": "XJT65JgPiI1y",
        "outputId": "24c9e33e-3412-4aad-ce75-b89fcba63c94"
      },
      "execution_count": null,
      "outputs": [
        {
          "output_type": "stream",
          "name": "stdout",
          "text": [
            "Running on main thread\n"
          ]
        }
      ]
    },
    {
      "cell_type": "code",
      "source": [
        "from threading import Thread\n",
        "\n",
        "def displaynumbers():\n",
        "  i=0\n",
        "  print(threading.current_thread().name)\n",
        "  while(i<10):\n",
        "    print(i)\n",
        "    i+=1\n",
        "\n",
        "print(threading.current_thread().name)\n",
        "t = Thread(target=displaynumbers)\n",
        "print(t.name)\n",
        "t.start()\n"
      ],
      "metadata": {
        "colab": {
          "base_uri": "https://localhost:8080/"
        },
        "id": "Rfduxh3ujBMD",
        "outputId": "3974b7c5-1fd3-4815-c163-5a1e452f2b87"
      },
      "execution_count": null,
      "outputs": [
        {
          "output_type": "stream",
          "name": "stdout",
          "text": [
            "MainThread\n",
            "Thread-24 (displaynumbers)\n",
            "Thread-24 (displaynumbers)\n",
            "0\n",
            "1\n",
            "2\n",
            "3\n",
            "4\n",
            "5\n",
            "6\n",
            "7\n",
            "8\n",
            "9\n"
          ]
        }
      ]
    },
    {
      "cell_type": "code",
      "source": [
        "from threading import *\n",
        "# create thread using super class Thread\n",
        "class MyThread(Thread):\n",
        "  def run(self): # we have to override run method\n",
        "    i=0\n",
        "    print(threading.current_thread().name)\n",
        "    while(i<10):\n",
        "      print(i)\n",
        "      i+=1\n",
        "\n",
        "print(threading.current_thread().name)\n",
        "t = MyThread()\n",
        "print(t.name)\n",
        "t.start()"
      ],
      "metadata": {
        "colab": {
          "base_uri": "https://localhost:8080/"
        },
        "id": "hYCIwSTTjlc9",
        "outputId": "333f02a3-c27f-48e8-8d3b-2e3e82ab1c5b"
      },
      "execution_count": null,
      "outputs": [
        {
          "output_type": "stream",
          "name": "stdout",
          "text": [
            "MainThread\n",
            "Thread-21\n",
            "Thread-21\n",
            "0\n",
            "1\n",
            "2\n",
            "3\n",
            "4\n",
            "5\n",
            "6\n",
            "7\n",
            "8\n",
            "9\n"
          ]
        }
      ]
    },
    {
      "cell_type": "code",
      "source": [
        "# using Hybrid method\n",
        "from threading import *\n",
        "\n",
        "class MyThread():\n",
        "  def displaynumbers(self):\n",
        "    i=0\n",
        "    print(threading.current_thread().name)\n",
        "    while(i<10):\n",
        "      print(i)\n",
        "      i+=1\n",
        "\n",
        "print(threading.current_thread().name)\n",
        "obj = MyThread()\n",
        "t1 = Thread(target=obj.displaynumbers)\n",
        "t1.start()"
      ],
      "metadata": {
        "colab": {
          "base_uri": "https://localhost:8080/"
        },
        "id": "l4SyQwV4lqTt",
        "outputId": "95348b0f-bb66-439a-df16-8a8a3673d893"
      },
      "execution_count": null,
      "outputs": [
        {
          "output_type": "stream",
          "name": "stdout",
          "text": [
            "MainThread\n",
            "Thread-35 (displaynumbers)\n",
            "0\n",
            "1\n",
            "2\n",
            "3\n",
            "4\n",
            "5\n",
            "6\n",
            "7\n",
            "8\n",
            "9\n"
          ]
        }
      ]
    },
    {
      "cell_type": "code",
      "source": [
        "# now we will see multi threading\n",
        "from threading import *\n",
        "\n",
        "class MyThread():\n",
        "  def displaynumbers(self):\n",
        "    i=0\n",
        "    print(threading.current_thread().name)\n",
        "    while(i<10):\n",
        "      print(i)\n",
        "      i+=1\n",
        "\n",
        "print(threading.current_thread().name)\n",
        "obj = MyThread()\n",
        "t1 = Thread(target=obj.displaynumbers)\n",
        "t1.start()\n",
        "t2 = Thread(target=obj.displaynumbers)\n",
        "t2.start()\n",
        "t3 = Thread(target=obj.displaynumbers)\n",
        "t3.start()"
      ],
      "metadata": {
        "colab": {
          "base_uri": "https://localhost:8080/"
        },
        "id": "C05DW9JbmnTj",
        "outputId": "367db48f-6b23-4671-a8f1-aa01f214619d"
      },
      "execution_count": null,
      "outputs": [
        {
          "output_type": "stream",
          "name": "stdout",
          "text": [
            "MainThread\n",
            "Thread-32 (displaynumbers)\n",
            "0\n",
            "1\n",
            "2\n",
            "Thread-33 (displaynumbers)\n",
            "30\n",
            "1\n",
            "2\n",
            "3\n",
            "4\n",
            "\n",
            "Thread-34 (displaynumbers)5\n",
            "6\n",
            "7\n",
            "8\n",
            "9\n",
            "\n",
            "0\n",
            "1\n",
            "2\n",
            "3\n",
            "4\n",
            "5\n",
            "6\n",
            "7\n",
            "8\n",
            "9\n",
            "4\n",
            "5\n",
            "6\n",
            "7\n",
            "8\n",
            "9\n"
          ]
        }
      ]
    },
    {
      "cell_type": "code",
      "source": [
        "# now we will see multi threading\n",
        "from threading import *\n",
        "from time import sleep\n",
        "\n",
        "class MyThread():\n",
        "  def displaynumbers(self):\n",
        "    i=0\n",
        "    print(threading.current_thread().name)\n",
        "    #sleep(1)\n",
        "    while(i<10):\n",
        "      print(i)\n",
        "      i+=1\n",
        "\n",
        "print(threading.current_thread().name)\n",
        "obj = MyThread()\n",
        "t1 = Thread(target=obj.displaynumbers)\n",
        "t1.start()\n",
        "t2 = Thread(target=obj.displaynumbers)\n",
        "t2.start()\n",
        "t3 = Thread(target=obj.displaynumbers)\n",
        "t3.start()"
      ],
      "metadata": {
        "colab": {
          "base_uri": "https://localhost:8080/"
        },
        "id": "ft5H4llAnl8B",
        "outputId": "a5baf32e-79e5-4e50-ed39-5a15276a4848"
      },
      "execution_count": null,
      "outputs": [
        {
          "output_type": "stream",
          "name": "stdout",
          "text": [
            "MainThread\n",
            "Thread-39 (displaynumbers)\n",
            "0\n",
            "1\n",
            "2\n",
            "3\n",
            "4\n",
            "5\n",
            "6\n",
            "7\n",
            "8\n",
            "9\n",
            "Thread-40 (displaynumbers)\n",
            "0\n",
            "1\n",
            "2\n",
            "3\n",
            "4\n",
            "5\n",
            "6\n",
            "7\n",
            "8\n",
            "9\n",
            "Thread-41 (displaynumbers)\n",
            "0\n",
            "1\n",
            "2\n",
            "3\n",
            "4\n",
            "5\n",
            "6\n",
            "7\n",
            "8\n",
            "9\n"
          ]
        }
      ]
    },
    {
      "cell_type": "markdown",
      "source": [
        "###thread synchronization"
      ],
      "metadata": {
        "id": "qkGlEq5AyhNj"
      }
    },
    {
      "cell_type": "markdown",
      "source": [
        "\n",
        "\n",
        "*   to make threads work in synchronisation, we will use lock methods\n",
        "*   l=Lock() and then thread.acquire() and then thread.release()\n",
        "*   we will do using semaphore also l=semaphore() and l.acquire() and l/release()"
      ],
      "metadata": {
        "id": "BSbGkD7GymeS"
      }
    },
    {
      "cell_type": "code",
      "source": [
        "from threading import *\n",
        "\n",
        "class BookMyBus:\n",
        "  def buy(self):\n",
        "    print(\"selecting the ticket\")\n",
        "    print(\"processing payment\")\n",
        "    print(\"printing ticket\")\n",
        "\n",
        "obj  = BookMyBus()\n",
        "t1 = Thread(target=obj.buy)\n",
        "t1.start()\n",
        "\n",
        "t2 = Thread(target=obj.buy)\n",
        "t2.start()\n",
        "\n",
        "t3 = Thread(target=obj.buy)\n",
        "t3.start()"
      ],
      "metadata": {
        "colab": {
          "base_uri": "https://localhost:8080/"
        },
        "id": "_FBt-T4xn6Nk",
        "outputId": "1f0f252b-7c2d-4e4a-b573-dc2d5fe6416b"
      },
      "execution_count": null,
      "outputs": [
        {
          "output_type": "stream",
          "name": "stdout",
          "text": [
            "selecting the ticket\n",
            "processing payment\n",
            "printing ticket\n",
            "selecting the ticket\n",
            "processing payment\n",
            "printing ticket\n",
            "selecting the ticket\n",
            "processing payment\n",
            "printing ticket\n"
          ]
        }
      ]
    },
    {
      "cell_type": "code",
      "source": [
        "\n",
        "from threading import *\n",
        "\n",
        "class BookMyBus:\n",
        "  def __init__(self,availableSeats):\n",
        "    self.availableSeats = availableSeats\n",
        "\n",
        "  def buy(self,seatsRequested):\n",
        "    print(\"seats aavaialable:\",self.availableSeats)\n",
        "    if self.availableSeats >= seatsRequested:\n",
        "      print(\"selecting the ticket\")\n",
        "      print(\"processing payment\")\n",
        "      print(\"printing ticket\")\n",
        "      self.availableSeats -= seatsRequested\n",
        "    else:\n",
        "      print(\"Sorry, No seats avaialable for Booking\")\n",
        "\n",
        "obj  = BookMyBus(10)\n",
        "t1 = Thread(target=obj.buy,args=(3,))\n",
        "t1.start()\n",
        "\n",
        "t2 = Thread(target=obj.buy,args=(4,))\n",
        "t2.start()\n",
        "\n",
        "t3 = Thread(target=obj.buy,args=(5,))\n",
        "t3.start()"
      ],
      "metadata": {
        "colab": {
          "base_uri": "https://localhost:8080/"
        },
        "id": "fn1-toZoyf99",
        "outputId": "205f5026-2be6-4b49-ac44-5da83605128d"
      },
      "execution_count": null,
      "outputs": [
        {
          "output_type": "stream",
          "name": "stdout",
          "text": [
            "seats aavaialable: 10\n",
            "selecting the ticket\n",
            "processing payment\n",
            "printing ticket\n",
            "seats aavaialable: 7\n",
            "selecting the ticket\n",
            "processing payment\n",
            "printing ticket\n",
            "seats aavaialable: 3\n",
            "Sorry, No seats avaialable for Booking\n"
          ]
        }
      ]
    },
    {
      "cell_type": "code",
      "source": [
        "#if there is no synchronisation between threads,it is possible that multiple users can book the same ticket\n",
        "from threading import *\n",
        "\n",
        "class BookMyBus:\n",
        "  def __init__(self,availableSeats):\n",
        "    self.availableSeats = availableSeats\n",
        "    self.l = Lock()\n",
        "\n",
        "  def buy(self,seatsRequested):\n",
        "    print(\"seats aavaialable:\",self.availableSeats)\n",
        "    self.l.acquire()\n",
        "    if self.availableSeats >= seatsRequested:\n",
        "      print(\"selecting the ticket\")\n",
        "      print(\"processing payment\")\n",
        "      print(\"printing ticket\")\n",
        "      self.availableSeats -= seatsRequested\n",
        "\n",
        "    else:\n",
        "      print(\"Sorry, No seats avaialable for Booking\")\n",
        "    self.l.release()\n",
        "\n",
        "obj  = BookMyBus(10)\n",
        "t1 = Thread(target=obj.buy,args=(3,))\n",
        "t1.start()\n",
        "\n",
        "t2 = Thread(target=obj.buy,args=(4,))\n",
        "t2.start()\n",
        "\n",
        "t3 = Thread(target=obj.buy,args=(5,))\n",
        "t3.start()"
      ],
      "metadata": {
        "colab": {
          "base_uri": "https://localhost:8080/"
        },
        "id": "IUDzIjsK8M0l",
        "outputId": "24e0145c-7289-41b7-cf2c-754b65e3208e"
      },
      "execution_count": null,
      "outputs": [
        {
          "output_type": "stream",
          "name": "stdout",
          "text": [
            "seats aavaialable: 10\n",
            "selecting the ticket\n",
            "processing payment\n",
            "printing ticket\n",
            "seats aavaialable: 7\n",
            "selecting the ticket\n",
            "processing payment\n",
            "printing ticket\n",
            "seats aavaialable: 3\n",
            "Sorry, No seats avaialable for Booking\n"
          ]
        }
      ]
    },
    {
      "cell_type": "code",
      "source": [
        "#lock by using Semaphore\n",
        "#if there is no synchronisation between threads,it is possible that multiple users can book the same ticket\n",
        "from threading import *\n",
        "\n",
        "class BookMyBus:\n",
        "  def __init__(self,availableSeats):\n",
        "    self.availableSeats = availableSeats\n",
        "    self.l = Semaphore()\n",
        "\n",
        "  def buy(self,seatsRequested):\n",
        "    print(\"seats aavaialable:\",self.availableSeats)\n",
        "    self.l.acquire()\n",
        "    if self.availableSeats >= seatsRequested:\n",
        "      print(\"selecting the ticket\")\n",
        "      print(\"processing payment\")\n",
        "      print(\"printing ticket\")\n",
        "      self.availableSeats -= seatsRequested\n",
        "\n",
        "    else:\n",
        "      print(\"Sorry, No seats avaialable for Booking\")\n",
        "    self.l.release()\n",
        "\n",
        "obj  = BookMyBus(10)\n",
        "t1 = Thread(target=obj.buy,args=(3,))\n",
        "t1.start()\n",
        "\n",
        "t2 = Thread(target=obj.buy,args=(4,))\n",
        "t2.start()\n",
        "\n",
        "t3 = Thread(target=obj.buy,args=(5,))\n",
        "t3.start()"
      ],
      "metadata": {
        "colab": {
          "base_uri": "https://localhost:8080/"
        },
        "id": "rEw4SOGG9O28",
        "outputId": "dbf50aa2-043e-4806-8405-e0e22f126e23"
      },
      "execution_count": null,
      "outputs": [
        {
          "output_type": "stream",
          "name": "stdout",
          "text": [
            "seats aavaialable: 10\n",
            "selecting the ticket\n",
            "processing payment\n",
            "printing ticket\n",
            "seats aavaialable: 7\n",
            "selecting the ticket\n",
            "processing payment\n",
            "printing ticket\n",
            "seats aavaialable: 3\n",
            "Sorry, No seats avaialable for Booking\n"
          ]
        }
      ]
    },
    {
      "cell_type": "code",
      "source": [
        "#thread communication using boolean flag\n",
        "from threading import *\n",
        "from time import sleep\n",
        "\n",
        "class Producer:\n",
        "  def __init__(self):\n",
        "    self.products = []\n",
        "    self.ordersPlaced = False\n",
        "\n",
        "  def produce(self):\n",
        "    for i in range(1,5):\n",
        "      self.products.append(\"product\"+str(i))\n",
        "      print(\"Item added\")\n",
        "    self.ordersPlaced = True\n",
        "\n",
        "class Consumer:\n",
        "  def __init__(self,prod):\n",
        "    self.prod = prod\n",
        "\n",
        "  def consume(self):\n",
        "    while self.prod.ordersPlaced == False:\n",
        "      sleep(0.5)\n",
        "    print(\"Orders Shipped\",self.prod.products)\n",
        "\n",
        "\n",
        "p = Producer()\n",
        "c = Consumer(p)\n",
        "\n",
        "t1 = Thread(target=p.produce)\n",
        "t1.start()\n",
        "t2 = Thread(target=c.consume)\n",
        "t2.start()\n"
      ],
      "metadata": {
        "id": "A1b0n8XS9z0o",
        "colab": {
          "base_uri": "https://localhost:8080/"
        },
        "outputId": "4a4edcc9-26b8-40ab-920b-726bdd85e9ce"
      },
      "execution_count": null,
      "outputs": [
        {
          "output_type": "stream",
          "name": "stdout",
          "text": [
            "Item added\n",
            "Item added\n",
            "Item added\n",
            "Item added\n",
            "Orders Shipped ['product1', 'product2', 'product3', 'product4']\n"
          ]
        }
      ]
    },
    {
      "cell_type": "code",
      "source": [
        "#thread communication using boolean flag\n",
        "from threading import *\n",
        "from time import sleep\n",
        "\n",
        "class Producer:\n",
        "  def __init__(self):\n",
        "    self.products = []\n",
        "    self.c = Condition()\n",
        "\n",
        "  def produce(self):\n",
        "    self.c.acquire()\n",
        "    for i in range(1,5):\n",
        "      self.products.append(\"product\"+str(i))\n",
        "      print(\"Item added\")\n",
        "    self.c.notify()\n",
        "    self.c.release()\n",
        "\n",
        "class Consumer:\n",
        "  def __init__(self,prod):\n",
        "    self.prod = prod\n",
        "\n",
        "  def consume(self):\n",
        "    self.prod.c.acquire()\n",
        "    self.prod.c.wait(0)\n",
        "    print(\"Orders Shipped\",self.prod.products)\n",
        "\n",
        "\n",
        "p = Producer()\n",
        "c = Consumer(p)\n",
        "\n",
        "t1 = Thread(target=p.produce)\n",
        "t1.start()\n",
        "t2 = Thread(target=c.consume)\n",
        "t2.start()\n"
      ],
      "metadata": {
        "id": "asPJWIgjYqSU",
        "colab": {
          "base_uri": "https://localhost:8080/"
        },
        "outputId": "5dc623ea-1889-404d-c600-788121447dd1"
      },
      "execution_count": null,
      "outputs": [
        {
          "output_type": "stream",
          "name": "stdout",
          "text": [
            "Item added\n",
            "Item added\n",
            "Item added\n",
            "Item added\n",
            "Orders Shipped ['product1', 'product2', 'product3', 'product4']\n"
          ]
        }
      ]
    },
    {
      "cell_type": "code",
      "source": [],
      "metadata": {
        "id": "T_C8AdZJbKXQ"
      },
      "execution_count": null,
      "outputs": []
    }
  ]
}